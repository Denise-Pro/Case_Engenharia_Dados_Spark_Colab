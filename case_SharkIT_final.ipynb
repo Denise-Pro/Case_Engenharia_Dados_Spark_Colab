{
  "nbformat": 4,
  "nbformat_minor": 0,
  "metadata": {
    "colab": {
      "name": "case_SharkIT.ipynb",
      "provenance": [],
      "collapsed_sections": [],
      "authorship_tag": "ABX9TyMmQPWlXudGeDlesmAJmioG",
      "include_colab_link": true
    },
    "kernelspec": {
      "name": "python3",
      "display_name": "Python 3"
    }
  },
  "cells": [
    {
      "cell_type": "markdown",
      "metadata": {
        "id": "view-in-github",
        "colab_type": "text"
      },
      "source": [
        "<a href=\"https://colab.research.google.com/github/Denise-Pro/Case_Engenharia_Dados_Spark_Colab/blob/master/case_SharkIT_final.ipynb\" target=\"_parent\"><img src=\"https://colab.research.google.com/assets/colab-badge.svg\" alt=\"Open In Colab\"/></a>"
      ]
    },
    {
      "cell_type": "code",
      "metadata": {
        "id": "27jJWb5dEzLa",
        "colab_type": "code",
        "colab": {}
      },
      "source": [
        "# instalar as dependências\n",
        "!apt-get install openjdk-8-jdk-headless -qq > /dev/null\n",
        "!wget -q https://archive.apache.org/dist/spark/spark-2.4.4/spark-2.4.4-bin-hadoop2.7.tgz\n",
        "!tar xf spark-2.4.4-bin-hadoop2.7.tgz\n",
        "!pip install -q findspark\n",
        "\n",
        "# configurar as variáveis de ambiente\n",
        "import os\n",
        "os.environ[\"JAVA_HOME\"] = \"/usr/lib/jvm/java-8-openjdk-amd64\"\n",
        "os.environ[\"SPARK_HOME\"] = \"/content/spark-2.4.4-bin-hadoop2.7\"\n",
        "\n",
        "# tornar o pyspark \"importável\"\n",
        "import findspark\n",
        "findspark.init('spark-2.4.4-bin-hadoop2.7')\n",
        "\n",
        "\n",
        "# iniciar uma sessão local e importar dados do Airbnb\n",
        "from pyspark.sql import SparkSession\n",
        "sc = SparkSession.builder.master('local[*]').getOrCreate()\n",
        "\n",
        "from pyspark.sql import *\n",
        "from pyspark.sql.types import *                      \n",
        "from pyspark.sql import functions\n",
        "from pyspark.sql.functions import col\n",
        "from pyspark.sql.functions import substring\n",
        "from pyspark.sql.functions import explode"
      ],
      "execution_count": null,
      "outputs": []
    },
    {
      "cell_type": "code",
      "metadata": {
        "id": "Wgjj57HTHaqA",
        "colab_type": "code",
        "colab": {
          "base_uri": "https://localhost:8080/",
          "height": 607
        },
        "outputId": "00546d51-4bca-4231-f785-69d477bdb4ab"
      },
      "source": [
        "# download do http para arquivo local\n",
        "!wget --quiet --show-progress https://noverde-data-engineering-test.s3.amazonaws.com/loans_sample.csv\n",
        "\n",
        "# carregando dados do arquivo Csv\n",
        "df_loans = sc.read.csv(\"./loans_sample.csv\", inferSchema=True, header=True)\n",
        "\n",
        "# ver algumas informações sobre os tipos de dados de cada coluna\n",
        "df_loans.printSchema()\n",
        "df_loans.show()"
      ],
      "execution_count": null,
      "outputs": [
        {
          "output_type": "stream",
          "text": [
            "\rloans_sample.csv      0%[                    ]       0  --.-KB/s               \rloans_sample.csv    100%[===================>]  44.36K   238KB/s    in 0.2s    \n",
            "root\n",
            " |-- loan_id: integer (nullable = true)\n",
            " |-- period: integer (nullable = true)\n",
            " |-- accepted_at: timestamp (nullable = true)\n",
            " |-- payday: integer (nullable = true)\n",
            " |-- interest_rate: double (nullable = true)\n",
            "\n",
            "+-------+------+--------------------+------+-------------+\n",
            "|loan_id|period|         accepted_at|payday|interest_rate|\n",
            "+-------+------+--------------------+------+-------------+\n",
            "|      0|    12|2017-05-17 16:48:...|    25|         3.12|\n",
            "|      1|    12|2017-05-19 03:12:...|    25|         7.55|\n",
            "|      2|    12|2017-05-24 13:22:...|    25|         7.55|\n",
            "|      3|    12|2017-05-21 23:51:...|     5|         7.55|\n",
            "|      4|     9|2017-05-18 08:07:...|    15|         7.49|\n",
            "|      5|    12|2017-05-20 08:39:...|    25|         3.12|\n",
            "|      6|     9|2017-05-17 07:48:...|    15|         7.49|\n",
            "|      7|    12|2017-05-23 14:16:...|     5|         7.55|\n",
            "|      8|    12|2017-05-16 16:17:...|    15|         7.55|\n",
            "|      9|    12|2017-05-21 17:47:...|    15|         7.55|\n",
            "|     10|    12|2017-05-18 10:07:...|     5|         7.55|\n",
            "|     11|    12|2017-05-20 17:16:...|    15|         7.55|\n",
            "|     12|    12|2017-05-21 01:02:...|    15|         7.55|\n",
            "|     13|    12|2017-05-16 21:19:...|    25|         7.55|\n",
            "|     14|    12|2017-05-21 04:45:...|    15|         7.55|\n",
            "|     15|    12|2017-05-17 20:19:...|    25|         7.55|\n",
            "|     16|    12|2017-05-19 15:59:...|    25|         3.12|\n",
            "|     17|    12|2017-05-21 12:24:...|    15|         7.55|\n",
            "|     18|    12|2017-05-22 02:44:...|    15|         7.55|\n",
            "|     19|    12|2017-05-20 13:45:...|    25|         7.55|\n",
            "+-------+------+--------------------+------+-------------+\n",
            "only showing top 20 rows\n",
            "\n"
          ],
          "name": "stdout"
        }
      ]
    },
    {
      "cell_type": "code",
      "metadata": {
        "id": "Sk3qz2TME3jX",
        "colab_type": "code",
        "colab": {
          "base_uri": "https://localhost:8080/",
          "height": 624
        },
        "outputId": "31bbe930-b135-43b6-dcbe-a4287cbc1ddf"
      },
      "source": [
        "# download do http para arquivo local\n",
        "!wget --quiet --show-progress https://noverde-data-engineering-test.s3.amazonaws.com/installments_sample.json\n",
        "\n",
        "Spark_DF_Json = (sc.read.option(\"multiline\", \"true\").option(\"inferSchema\", \"true\").json('./installments_sample.json')                 )\n",
        "# data = Spark_DF_Json.select(\"data\").collect()[0]['data']\n",
        "# Spark_DF_Json.printSchema()\n",
        "# Spark_DF_Json.show()\n",
        "\n",
        "from pyspark.sql.functions import to_date\n",
        "data_json = Spark_DF_Json.select(explode('data'))\n",
        "data_json.printSchema()\n",
        "installments_df = data_json.select(col('col.loan_id'),col('col.number').alias('installment_number'),col('col.due_date').alias('due_date'))\n",
        "installments_df = installments_df.withColumn(\"due_date\", to_date(substring('due_date', 0, 10), \"yyyy-MM-dd\"))\n",
        "installments_df.show()"
      ],
      "execution_count": null,
      "outputs": [
        {
          "output_type": "stream",
          "text": [
            "installments_sample 100%[===================>] 983.37K  1.46MB/s    in 0.7s    \n",
            "root\n",
            " |-- col: struct (nullable = true)\n",
            " |    |-- due_date: string (nullable = true)\n",
            " |    |-- installment_id: long (nullable = true)\n",
            " |    |-- installment_value: double (nullable = true)\n",
            " |    |-- loan_id: long (nullable = true)\n",
            " |    |-- number: long (nullable = true)\n",
            "\n",
            "+-------+------------------+----------+\n",
            "|loan_id|installment_number|  due_date|\n",
            "+-------+------------------+----------+\n",
            "|    291|                 1|2017-06-12|\n",
            "|    291|                 2|2017-07-12|\n",
            "|    291|                 3|2017-08-12|\n",
            "|    291|                 5|2017-10-12|\n",
            "|    291|                 4|2017-09-12|\n",
            "|    291|                12|2018-05-12|\n",
            "|    291|                 7|2017-12-12|\n",
            "|    291|                 6|2017-11-12|\n",
            "|    291|                 9|2018-02-12|\n",
            "|    291|                11|2018-04-12|\n",
            "|    291|                 8|2018-01-12|\n",
            "|    291|                10|2018-03-12|\n",
            "|    670|                 3|2017-09-01|\n",
            "|    154|                 4|2017-08-22|\n",
            "|    154|                 6|2017-10-22|\n",
            "|    154|                 7|2017-11-22|\n",
            "|    154|                 8|2017-12-22|\n",
            "|    154|                 9|2018-01-22|\n",
            "|    154|                10|2018-02-22|\n",
            "|    154|                11|2018-03-22|\n",
            "+-------+------------------+----------+\n",
            "only showing top 20 rows\n",
            "\n"
          ],
          "name": "stdout"
        }
      ]
    },
    {
      "cell_type": "code",
      "metadata": {
        "id": "n4ctFadMFECk",
        "colab_type": "code",
        "colab": {
          "base_uri": "https://localhost:8080/",
          "height": 624
        },
        "outputId": "34aa8b49-2e6f-4c08-dec0-b77747db6587"
      },
      "source": [
        "# download do http para arquivo local\n",
        "!wget --quiet --show-progress https://noverde-data-engineering-test.s3.amazonaws.com/payments_sample.parquet\n",
        "df_spark_parquet = sc.read.format(\"parquet\").load(\"./payments_sample.parquet\")\n",
        "df_spark_parquet.printSchema()\n",
        "df_payment = df_spark_parquet.select(col('loan_id'),col('payment_id').alias('id'), col('payment_date'),col('payment_method').alias('method'),\\\n",
        "                                     col('paid_amount').alias('amount'))\n",
        "df_payment.show()"
      ],
      "execution_count": null,
      "outputs": [
        {
          "output_type": "stream",
          "text": [
            "\rpayments_sample.par   0%[                    ]       0  --.-KB/s               \rpayments_sample.par  43%[=======>            ] 109.64K   392KB/s               \rpayments_sample.par 100%[===================>] 253.90K   680KB/s    in 0.4s    \n",
            "root\n",
            " |-- loan_id: long (nullable = true)\n",
            " |-- installment_id: long (nullable = true)\n",
            " |-- payment_date: date (nullable = true)\n",
            " |-- payment_method: string (nullable = true)\n",
            " |-- payment_id: string (nullable = true)\n",
            " |-- paid_amount: double (nullable = true)\n",
            "\n",
            "+-------+--------------------+------------+----------+------+\n",
            "|loan_id|                  id|payment_date|    method|amount|\n",
            "+-------+--------------------+------------+----------+------+\n",
            "|    291|8ad9e0e5-a232-477...|  2017-06-01|creditcard|454.94|\n",
            "|    291|e747c7f0-bd95-4ac...|  2017-07-03|       ted|454.94|\n",
            "|    291|35734218-a71f-411...|  2017-07-23|       ted|454.94|\n",
            "|    291|1c957990-5245-41e...|  2017-10-19|    boleto|462.94|\n",
            "|    291|4389d87f-570a-4a7...|  2018-05-14|creditcard|456.94|\n",
            "|    291|91bdae2d-f1ba-40a...|  2017-12-05|creditcard|454.94|\n",
            "|    291|46410647-eb71-49b...|  2017-11-19|       ted|457.94|\n",
            "|    291|abc5cefe-0c08-481...|  2018-01-23|creditcard|454.94|\n",
            "|    291|77b437f6-f1ea-4ad...|  2018-04-12|       ted|454.94|\n",
            "|    291|5b6bf993-faec-4bd...|  2017-12-31|creditcard|454.94|\n",
            "|    291|4865e86e-4042-412...|  2018-02-23|creditcard|454.94|\n",
            "|    154|9a51f76c-5107-47e...|  2017-12-23|creditcard|335.67|\n",
            "|    154|cc9f205a-fb8d-4a7...|  2018-01-24|creditcard|358.67|\n",
            "|    154|ca8a2ba7-ba5d-427...|  2018-02-20|creditcard|329.67|\n",
            "|    154|a727ef8f-27d5-4ad...|  2018-03-18|       ted|329.67|\n",
            "|    433|01f1f151-e063-45e...|  2017-08-07|    boleto|650.93|\n",
            "|    433|0b879fda-c4c9-421...|  2017-09-22|       ted|650.93|\n",
            "|    433|1a77226b-4814-40b...|  2017-12-01|creditcard|650.93|\n",
            "|    433|7be08edb-60f7-4c8...|  2017-11-17|creditcard|650.93|\n",
            "|    433|d9cd4d56-a00b-46c...|  2018-01-05|creditcard|650.93|\n",
            "+-------+--------------------+------------+----------+------+\n",
            "only showing top 20 rows\n",
            "\n"
          ],
          "name": "stdout"
        }
      ]
    },
    {
      "cell_type": "code",
      "metadata": {
        "id": "6IpSTtZfFM0_",
        "colab_type": "code",
        "colab": {
          "base_uri": "https://localhost:8080/",
          "height": 468
        },
        "outputId": "20533236-09e8-4d63-d532-99d2abf28d3d"
      },
      "source": [
        "# faço aqui o join de 3 dataframes, desse jeito o spark entende que 'loan_id' é uma coluna em comum para os 3 e cria apenas uma em df_concat\n",
        "df_concat = df_loans.join(installments_df, [\"loan_id\"]).join(df_payment, [\"loan_id\"])\n",
        "df_concat.show()"
      ],
      "execution_count": null,
      "outputs": [
        {
          "output_type": "stream",
          "text": [
            "+-------+------+--------------------+------+-------------+------------------+----------+--------------------+------------+----------+------+\n",
            "|loan_id|period|         accepted_at|payday|interest_rate|installment_number|  due_date|                  id|payment_date|    method|amount|\n",
            "+-------+------+--------------------+------+-------------+------------------+----------+--------------------+------------+----------+------+\n",
            "|    291|    12|2017-05-11 13:00:...|     5|         7.55|                 1|2017-06-12|4865e86e-4042-412...|  2018-02-23|creditcard|454.94|\n",
            "|    291|    12|2017-05-11 13:00:...|     5|         7.55|                 1|2017-06-12|5b6bf993-faec-4bd...|  2017-12-31|creditcard|454.94|\n",
            "|    291|    12|2017-05-11 13:00:...|     5|         7.55|                 1|2017-06-12|77b437f6-f1ea-4ad...|  2018-04-12|       ted|454.94|\n",
            "|    291|    12|2017-05-11 13:00:...|     5|         7.55|                 1|2017-06-12|abc5cefe-0c08-481...|  2018-01-23|creditcard|454.94|\n",
            "|    291|    12|2017-05-11 13:00:...|     5|         7.55|                 1|2017-06-12|46410647-eb71-49b...|  2017-11-19|       ted|457.94|\n",
            "|    291|    12|2017-05-11 13:00:...|     5|         7.55|                 1|2017-06-12|91bdae2d-f1ba-40a...|  2017-12-05|creditcard|454.94|\n",
            "|    291|    12|2017-05-11 13:00:...|     5|         7.55|                 1|2017-06-12|4389d87f-570a-4a7...|  2018-05-14|creditcard|456.94|\n",
            "|    291|    12|2017-05-11 13:00:...|     5|         7.55|                 1|2017-06-12|1c957990-5245-41e...|  2017-10-19|    boleto|462.94|\n",
            "|    291|    12|2017-05-11 13:00:...|     5|         7.55|                 1|2017-06-12|35734218-a71f-411...|  2017-07-23|       ted|454.94|\n",
            "|    291|    12|2017-05-11 13:00:...|     5|         7.55|                 1|2017-06-12|e747c7f0-bd95-4ac...|  2017-07-03|       ted|454.94|\n",
            "|    291|    12|2017-05-11 13:00:...|     5|         7.55|                 1|2017-06-12|8ad9e0e5-a232-477...|  2017-06-01|creditcard|454.94|\n",
            "|    291|    12|2017-05-11 13:00:...|     5|         7.55|                 2|2017-07-12|4865e86e-4042-412...|  2018-02-23|creditcard|454.94|\n",
            "|    291|    12|2017-05-11 13:00:...|     5|         7.55|                 2|2017-07-12|5b6bf993-faec-4bd...|  2017-12-31|creditcard|454.94|\n",
            "|    291|    12|2017-05-11 13:00:...|     5|         7.55|                 2|2017-07-12|77b437f6-f1ea-4ad...|  2018-04-12|       ted|454.94|\n",
            "|    291|    12|2017-05-11 13:00:...|     5|         7.55|                 2|2017-07-12|abc5cefe-0c08-481...|  2018-01-23|creditcard|454.94|\n",
            "|    291|    12|2017-05-11 13:00:...|     5|         7.55|                 2|2017-07-12|46410647-eb71-49b...|  2017-11-19|       ted|457.94|\n",
            "|    291|    12|2017-05-11 13:00:...|     5|         7.55|                 2|2017-07-12|91bdae2d-f1ba-40a...|  2017-12-05|creditcard|454.94|\n",
            "|    291|    12|2017-05-11 13:00:...|     5|         7.55|                 2|2017-07-12|4389d87f-570a-4a7...|  2018-05-14|creditcard|456.94|\n",
            "|    291|    12|2017-05-11 13:00:...|     5|         7.55|                 2|2017-07-12|1c957990-5245-41e...|  2017-10-19|    boleto|462.94|\n",
            "|    291|    12|2017-05-11 13:00:...|     5|         7.55|                 2|2017-07-12|35734218-a71f-411...|  2017-07-23|       ted|454.94|\n",
            "+-------+------+--------------------+------+-------------+------------------+----------+--------------------+------------+----------+------+\n",
            "only showing top 20 rows\n",
            "\n"
          ],
          "name": "stdout"
        }
      ]
    },
    {
      "cell_type": "code",
      "metadata": {
        "id": "o3RALA6QY7gz",
        "colab_type": "code",
        "colab": {
          "base_uri": "https://localhost:8080/",
          "height": 589
        },
        "outputId": "e12a9b1c-c22f-4d81-be26-c965eab41eed"
      },
      "source": [
        "df = df_concat.toPandas()\n",
        "df"
      ],
      "execution_count": null,
      "outputs": [
        {
          "output_type": "execute_result",
          "data": {
            "text/html": [
              "<div>\n",
              "<style scoped>\n",
              "    .dataframe tbody tr th:only-of-type {\n",
              "        vertical-align: middle;\n",
              "    }\n",
              "\n",
              "    .dataframe tbody tr th {\n",
              "        vertical-align: top;\n",
              "    }\n",
              "\n",
              "    .dataframe thead th {\n",
              "        text-align: right;\n",
              "    }\n",
              "</style>\n",
              "<table border=\"1\" class=\"dataframe\">\n",
              "  <thead>\n",
              "    <tr style=\"text-align: right;\">\n",
              "      <th></th>\n",
              "      <th>loan_id</th>\n",
              "      <th>period</th>\n",
              "      <th>accepted_at</th>\n",
              "      <th>payday</th>\n",
              "      <th>interest_rate</th>\n",
              "      <th>installment_number</th>\n",
              "      <th>due_date</th>\n",
              "      <th>id</th>\n",
              "      <th>payment_date</th>\n",
              "      <th>method</th>\n",
              "      <th>amount</th>\n",
              "    </tr>\n",
              "  </thead>\n",
              "  <tbody>\n",
              "    <tr>\n",
              "      <th>0</th>\n",
              "      <td>291</td>\n",
              "      <td>12</td>\n",
              "      <td>2017-05-11 13:00:31.620</td>\n",
              "      <td>5</td>\n",
              "      <td>7.55</td>\n",
              "      <td>1</td>\n",
              "      <td>2017-06-12</td>\n",
              "      <td>4865e86e-4042-412f-be34-5df45cae39af</td>\n",
              "      <td>2018-02-23</td>\n",
              "      <td>creditcard</td>\n",
              "      <td>454.94</td>\n",
              "    </tr>\n",
              "    <tr>\n",
              "      <th>1</th>\n",
              "      <td>291</td>\n",
              "      <td>12</td>\n",
              "      <td>2017-05-11 13:00:31.620</td>\n",
              "      <td>5</td>\n",
              "      <td>7.55</td>\n",
              "      <td>1</td>\n",
              "      <td>2017-06-12</td>\n",
              "      <td>5b6bf993-faec-4bd0-89f4-e3600518acd7</td>\n",
              "      <td>2017-12-31</td>\n",
              "      <td>creditcard</td>\n",
              "      <td>454.94</td>\n",
              "    </tr>\n",
              "    <tr>\n",
              "      <th>2</th>\n",
              "      <td>291</td>\n",
              "      <td>12</td>\n",
              "      <td>2017-05-11 13:00:31.620</td>\n",
              "      <td>5</td>\n",
              "      <td>7.55</td>\n",
              "      <td>1</td>\n",
              "      <td>2017-06-12</td>\n",
              "      <td>77b437f6-f1ea-4ade-b074-b0d0a855a7c0</td>\n",
              "      <td>2018-04-12</td>\n",
              "      <td>ted</td>\n",
              "      <td>454.94</td>\n",
              "    </tr>\n",
              "    <tr>\n",
              "      <th>3</th>\n",
              "      <td>291</td>\n",
              "      <td>12</td>\n",
              "      <td>2017-05-11 13:00:31.620</td>\n",
              "      <td>5</td>\n",
              "      <td>7.55</td>\n",
              "      <td>1</td>\n",
              "      <td>2017-06-12</td>\n",
              "      <td>abc5cefe-0c08-4816-8182-c3723a47cc9b</td>\n",
              "      <td>2018-01-23</td>\n",
              "      <td>creditcard</td>\n",
              "      <td>454.94</td>\n",
              "    </tr>\n",
              "    <tr>\n",
              "      <th>4</th>\n",
              "      <td>291</td>\n",
              "      <td>12</td>\n",
              "      <td>2017-05-11 13:00:31.620</td>\n",
              "      <td>5</td>\n",
              "      <td>7.55</td>\n",
              "      <td>1</td>\n",
              "      <td>2017-06-12</td>\n",
              "      <td>46410647-eb71-49b9-a566-ffbc4c203423</td>\n",
              "      <td>2017-11-19</td>\n",
              "      <td>ted</td>\n",
              "      <td>457.94</td>\n",
              "    </tr>\n",
              "    <tr>\n",
              "      <th>...</th>\n",
              "      <td>...</td>\n",
              "      <td>...</td>\n",
              "      <td>...</td>\n",
              "      <td>...</td>\n",
              "      <td>...</td>\n",
              "      <td>...</td>\n",
              "      <td>...</td>\n",
              "      <td>...</td>\n",
              "      <td>...</td>\n",
              "      <td>...</td>\n",
              "      <td>...</td>\n",
              "    </tr>\n",
              "    <tr>\n",
              "      <th>65218</th>\n",
              "      <td>522</td>\n",
              "      <td>12</td>\n",
              "      <td>2017-05-25 05:51:23.106</td>\n",
              "      <td>15</td>\n",
              "      <td>7.55</td>\n",
              "      <td>10</td>\n",
              "      <td>2018-03-22</td>\n",
              "      <td>23324a12-e651-4572-9e64-bf2ddb4a0064</td>\n",
              "      <td>2017-10-17</td>\n",
              "      <td>boleto</td>\n",
              "      <td>245.52</td>\n",
              "    </tr>\n",
              "    <tr>\n",
              "      <th>65219</th>\n",
              "      <td>522</td>\n",
              "      <td>12</td>\n",
              "      <td>2017-05-25 05:51:23.106</td>\n",
              "      <td>15</td>\n",
              "      <td>7.55</td>\n",
              "      <td>10</td>\n",
              "      <td>2018-03-22</td>\n",
              "      <td>47822864-bccf-42c0-a231-001ed8f8215a</td>\n",
              "      <td>2017-09-08</td>\n",
              "      <td>ted</td>\n",
              "      <td>245.52</td>\n",
              "    </tr>\n",
              "    <tr>\n",
              "      <th>65220</th>\n",
              "      <td>522</td>\n",
              "      <td>12</td>\n",
              "      <td>2017-05-25 05:51:23.106</td>\n",
              "      <td>15</td>\n",
              "      <td>7.55</td>\n",
              "      <td>10</td>\n",
              "      <td>2018-03-22</td>\n",
              "      <td>0b2241a5-965f-4710-8d91-af178af4ec8f</td>\n",
              "      <td>2017-07-31</td>\n",
              "      <td>creditcard</td>\n",
              "      <td>245.52</td>\n",
              "    </tr>\n",
              "    <tr>\n",
              "      <th>65221</th>\n",
              "      <td>522</td>\n",
              "      <td>12</td>\n",
              "      <td>2017-05-25 05:51:23.106</td>\n",
              "      <td>15</td>\n",
              "      <td>7.55</td>\n",
              "      <td>10</td>\n",
              "      <td>2018-03-22</td>\n",
              "      <td>6217c90d-5bfa-4883-bad2-6014f2b65b32</td>\n",
              "      <td>2017-07-27</td>\n",
              "      <td>ted</td>\n",
              "      <td>256.52</td>\n",
              "    </tr>\n",
              "    <tr>\n",
              "      <th>65222</th>\n",
              "      <td>522</td>\n",
              "      <td>12</td>\n",
              "      <td>2017-05-25 05:51:23.106</td>\n",
              "      <td>15</td>\n",
              "      <td>7.55</td>\n",
              "      <td>10</td>\n",
              "      <td>2018-03-22</td>\n",
              "      <td>e6c22fa0-91d6-49e5-89aa-a7c929a9e18c</td>\n",
              "      <td>2017-06-13</td>\n",
              "      <td>ted</td>\n",
              "      <td>245.52</td>\n",
              "    </tr>\n",
              "  </tbody>\n",
              "</table>\n",
              "<p>65223 rows × 11 columns</p>\n",
              "</div>"
            ],
            "text/plain": [
              "       loan_id  period             accepted_at  ...  payment_date      method  amount\n",
              "0          291      12 2017-05-11 13:00:31.620  ...    2018-02-23  creditcard  454.94\n",
              "1          291      12 2017-05-11 13:00:31.620  ...    2017-12-31  creditcard  454.94\n",
              "2          291      12 2017-05-11 13:00:31.620  ...    2018-04-12         ted  454.94\n",
              "3          291      12 2017-05-11 13:00:31.620  ...    2018-01-23  creditcard  454.94\n",
              "4          291      12 2017-05-11 13:00:31.620  ...    2017-11-19         ted  457.94\n",
              "...        ...     ...                     ...  ...           ...         ...     ...\n",
              "65218      522      12 2017-05-25 05:51:23.106  ...    2017-10-17      boleto  245.52\n",
              "65219      522      12 2017-05-25 05:51:23.106  ...    2017-09-08         ted  245.52\n",
              "65220      522      12 2017-05-25 05:51:23.106  ...    2017-07-31  creditcard  245.52\n",
              "65221      522      12 2017-05-25 05:51:23.106  ...    2017-07-27         ted  256.52\n",
              "65222      522      12 2017-05-25 05:51:23.106  ...    2017-06-13         ted  245.52\n",
              "\n",
              "[65223 rows x 11 columns]"
            ]
          },
          "metadata": {
            "tags": []
          },
          "execution_count": 12
        }
      ]
    },
    {
      "cell_type": "code",
      "metadata": {
        "id": "SpE7pGcN6cfj",
        "colab_type": "code",
        "colab": {
          "base_uri": "https://localhost:8080/",
          "height": 35
        },
        "outputId": "a17a37b8-9da5-42aa-fcc0-2dedf3a91cc2"
      },
      "source": [
        "# verifico se existem valores nulos na coluna de pagamantos\n",
        "df.payment_date.isnull().sum()"
      ],
      "execution_count": null,
      "outputs": [
        {
          "output_type": "execute_result",
          "data": {
            "text/plain": [
              "0"
            ]
          },
          "metadata": {
            "tags": []
          },
          "execution_count": 13
        }
      ]
    },
    {
      "cell_type": "code",
      "metadata": {
        "id": "czAuOLYEkhE2",
        "colab_type": "code",
        "colab": {
          "base_uri": "https://localhost:8080/",
          "height": 745
        },
        "outputId": "92a2dd32-01fb-4515-f09f-7f74b80b10ea"
      },
      "source": [
        "df.loc [df ['payment_date'] <= df ['due_date'], 'latency'] = 'False'\n",
        "df.loc [df ['payment_date'] > df ['due_date'], 'latency'] = 'True'\n",
        "df"
      ],
      "execution_count": null,
      "outputs": [
        {
          "output_type": "execute_result",
          "data": {
            "text/html": [
              "<div>\n",
              "<style scoped>\n",
              "    .dataframe tbody tr th:only-of-type {\n",
              "        vertical-align: middle;\n",
              "    }\n",
              "\n",
              "    .dataframe tbody tr th {\n",
              "        vertical-align: top;\n",
              "    }\n",
              "\n",
              "    .dataframe thead th {\n",
              "        text-align: right;\n",
              "    }\n",
              "</style>\n",
              "<table border=\"1\" class=\"dataframe\">\n",
              "  <thead>\n",
              "    <tr style=\"text-align: right;\">\n",
              "      <th></th>\n",
              "      <th>loan_id</th>\n",
              "      <th>period</th>\n",
              "      <th>accepted_at</th>\n",
              "      <th>payday</th>\n",
              "      <th>interest_rate</th>\n",
              "      <th>installment_number</th>\n",
              "      <th>due_date</th>\n",
              "      <th>id</th>\n",
              "      <th>payment_date</th>\n",
              "      <th>method</th>\n",
              "      <th>amount</th>\n",
              "      <th>latency</th>\n",
              "    </tr>\n",
              "  </thead>\n",
              "  <tbody>\n",
              "    <tr>\n",
              "      <th>0</th>\n",
              "      <td>291</td>\n",
              "      <td>12</td>\n",
              "      <td>2017-05-11 13:00:31.620</td>\n",
              "      <td>5</td>\n",
              "      <td>7.55</td>\n",
              "      <td>1</td>\n",
              "      <td>2017-06-12</td>\n",
              "      <td>4865e86e-4042-412f-be34-5df45cae39af</td>\n",
              "      <td>2018-02-23</td>\n",
              "      <td>creditcard</td>\n",
              "      <td>454.94</td>\n",
              "      <td>True</td>\n",
              "    </tr>\n",
              "    <tr>\n",
              "      <th>1</th>\n",
              "      <td>291</td>\n",
              "      <td>12</td>\n",
              "      <td>2017-05-11 13:00:31.620</td>\n",
              "      <td>5</td>\n",
              "      <td>7.55</td>\n",
              "      <td>1</td>\n",
              "      <td>2017-06-12</td>\n",
              "      <td>5b6bf993-faec-4bd0-89f4-e3600518acd7</td>\n",
              "      <td>2017-12-31</td>\n",
              "      <td>creditcard</td>\n",
              "      <td>454.94</td>\n",
              "      <td>True</td>\n",
              "    </tr>\n",
              "    <tr>\n",
              "      <th>2</th>\n",
              "      <td>291</td>\n",
              "      <td>12</td>\n",
              "      <td>2017-05-11 13:00:31.620</td>\n",
              "      <td>5</td>\n",
              "      <td>7.55</td>\n",
              "      <td>1</td>\n",
              "      <td>2017-06-12</td>\n",
              "      <td>77b437f6-f1ea-4ade-b074-b0d0a855a7c0</td>\n",
              "      <td>2018-04-12</td>\n",
              "      <td>ted</td>\n",
              "      <td>454.94</td>\n",
              "      <td>True</td>\n",
              "    </tr>\n",
              "    <tr>\n",
              "      <th>3</th>\n",
              "      <td>291</td>\n",
              "      <td>12</td>\n",
              "      <td>2017-05-11 13:00:31.620</td>\n",
              "      <td>5</td>\n",
              "      <td>7.55</td>\n",
              "      <td>1</td>\n",
              "      <td>2017-06-12</td>\n",
              "      <td>abc5cefe-0c08-4816-8182-c3723a47cc9b</td>\n",
              "      <td>2018-01-23</td>\n",
              "      <td>creditcard</td>\n",
              "      <td>454.94</td>\n",
              "      <td>True</td>\n",
              "    </tr>\n",
              "    <tr>\n",
              "      <th>4</th>\n",
              "      <td>291</td>\n",
              "      <td>12</td>\n",
              "      <td>2017-05-11 13:00:31.620</td>\n",
              "      <td>5</td>\n",
              "      <td>7.55</td>\n",
              "      <td>1</td>\n",
              "      <td>2017-06-12</td>\n",
              "      <td>46410647-eb71-49b9-a566-ffbc4c203423</td>\n",
              "      <td>2017-11-19</td>\n",
              "      <td>ted</td>\n",
              "      <td>457.94</td>\n",
              "      <td>True</td>\n",
              "    </tr>\n",
              "    <tr>\n",
              "      <th>...</th>\n",
              "      <td>...</td>\n",
              "      <td>...</td>\n",
              "      <td>...</td>\n",
              "      <td>...</td>\n",
              "      <td>...</td>\n",
              "      <td>...</td>\n",
              "      <td>...</td>\n",
              "      <td>...</td>\n",
              "      <td>...</td>\n",
              "      <td>...</td>\n",
              "      <td>...</td>\n",
              "      <td>...</td>\n",
              "    </tr>\n",
              "    <tr>\n",
              "      <th>65218</th>\n",
              "      <td>522</td>\n",
              "      <td>12</td>\n",
              "      <td>2017-05-25 05:51:23.106</td>\n",
              "      <td>15</td>\n",
              "      <td>7.55</td>\n",
              "      <td>10</td>\n",
              "      <td>2018-03-22</td>\n",
              "      <td>23324a12-e651-4572-9e64-bf2ddb4a0064</td>\n",
              "      <td>2017-10-17</td>\n",
              "      <td>boleto</td>\n",
              "      <td>245.52</td>\n",
              "      <td>False</td>\n",
              "    </tr>\n",
              "    <tr>\n",
              "      <th>65219</th>\n",
              "      <td>522</td>\n",
              "      <td>12</td>\n",
              "      <td>2017-05-25 05:51:23.106</td>\n",
              "      <td>15</td>\n",
              "      <td>7.55</td>\n",
              "      <td>10</td>\n",
              "      <td>2018-03-22</td>\n",
              "      <td>47822864-bccf-42c0-a231-001ed8f8215a</td>\n",
              "      <td>2017-09-08</td>\n",
              "      <td>ted</td>\n",
              "      <td>245.52</td>\n",
              "      <td>False</td>\n",
              "    </tr>\n",
              "    <tr>\n",
              "      <th>65220</th>\n",
              "      <td>522</td>\n",
              "      <td>12</td>\n",
              "      <td>2017-05-25 05:51:23.106</td>\n",
              "      <td>15</td>\n",
              "      <td>7.55</td>\n",
              "      <td>10</td>\n",
              "      <td>2018-03-22</td>\n",
              "      <td>0b2241a5-965f-4710-8d91-af178af4ec8f</td>\n",
              "      <td>2017-07-31</td>\n",
              "      <td>creditcard</td>\n",
              "      <td>245.52</td>\n",
              "      <td>False</td>\n",
              "    </tr>\n",
              "    <tr>\n",
              "      <th>65221</th>\n",
              "      <td>522</td>\n",
              "      <td>12</td>\n",
              "      <td>2017-05-25 05:51:23.106</td>\n",
              "      <td>15</td>\n",
              "      <td>7.55</td>\n",
              "      <td>10</td>\n",
              "      <td>2018-03-22</td>\n",
              "      <td>6217c90d-5bfa-4883-bad2-6014f2b65b32</td>\n",
              "      <td>2017-07-27</td>\n",
              "      <td>ted</td>\n",
              "      <td>256.52</td>\n",
              "      <td>False</td>\n",
              "    </tr>\n",
              "    <tr>\n",
              "      <th>65222</th>\n",
              "      <td>522</td>\n",
              "      <td>12</td>\n",
              "      <td>2017-05-25 05:51:23.106</td>\n",
              "      <td>15</td>\n",
              "      <td>7.55</td>\n",
              "      <td>10</td>\n",
              "      <td>2018-03-22</td>\n",
              "      <td>e6c22fa0-91d6-49e5-89aa-a7c929a9e18c</td>\n",
              "      <td>2017-06-13</td>\n",
              "      <td>ted</td>\n",
              "      <td>245.52</td>\n",
              "      <td>False</td>\n",
              "    </tr>\n",
              "  </tbody>\n",
              "</table>\n",
              "<p>65223 rows × 12 columns</p>\n",
              "</div>"
            ],
            "text/plain": [
              "       loan_id  period             accepted_at  ...      method  amount  latency\n",
              "0          291      12 2017-05-11 13:00:31.620  ...  creditcard  454.94     True\n",
              "1          291      12 2017-05-11 13:00:31.620  ...  creditcard  454.94     True\n",
              "2          291      12 2017-05-11 13:00:31.620  ...         ted  454.94     True\n",
              "3          291      12 2017-05-11 13:00:31.620  ...  creditcard  454.94     True\n",
              "4          291      12 2017-05-11 13:00:31.620  ...         ted  457.94     True\n",
              "...        ...     ...                     ...  ...         ...     ...      ...\n",
              "65218      522      12 2017-05-25 05:51:23.106  ...      boleto  245.52    False\n",
              "65219      522      12 2017-05-25 05:51:23.106  ...         ted  245.52    False\n",
              "65220      522      12 2017-05-25 05:51:23.106  ...  creditcard  245.52    False\n",
              "65221      522      12 2017-05-25 05:51:23.106  ...         ted  256.52    False\n",
              "65222      522      12 2017-05-25 05:51:23.106  ...         ted  245.52    False\n",
              "\n",
              "[65223 rows x 12 columns]"
            ]
          },
          "metadata": {
            "tags": []
          },
          "execution_count": 14
        }
      ]
    },
    {
      "cell_type": "code",
      "metadata": {
        "id": "-B4BthJc6AmS",
        "colab_type": "code",
        "colab": {
          "base_uri": "https://localhost:8080/",
          "height": 955
        },
        "outputId": "606ec0b9-3308-4f89-b6ba-7bd1feb9b511"
      },
      "source": [
        "import numpy as np\n",
        "from datetime import datetime\n",
        "\n",
        "df.loc[:,'Diference_pay_day'] = (df['payment_date'].sub(df['due_date']))/np.timedelta64(1, 'D')\n",
        "\n",
        "# se o pagamento esta atrasado há mais de 30 dias o valor e 'True' - significa q a dívida está em aberto\n",
        "# se o atraso for maior  q 30 dias , mas o pagamento foi efetuado = 'False'\n",
        "\n",
        "df.loc [df ['Diference_pay_day'] >= 30 & df['payment_date'].isnull(), 'Over30'] = 'True'\n",
        "df.loc [df ['Diference_pay_day'] >= 30 & df['payment_date'].notnull(), 'Over30'] = 'False'\n",
        "df"
      ],
      "execution_count": null,
      "outputs": [
        {
          "output_type": "execute_result",
          "data": {
            "text/html": [
              "<div>\n",
              "<style scoped>\n",
              "    .dataframe tbody tr th:only-of-type {\n",
              "        vertical-align: middle;\n",
              "    }\n",
              "\n",
              "    .dataframe tbody tr th {\n",
              "        vertical-align: top;\n",
              "    }\n",
              "\n",
              "    .dataframe thead th {\n",
              "        text-align: right;\n",
              "    }\n",
              "</style>\n",
              "<table border=\"1\" class=\"dataframe\">\n",
              "  <thead>\n",
              "    <tr style=\"text-align: right;\">\n",
              "      <th></th>\n",
              "      <th>loan_id</th>\n",
              "      <th>period</th>\n",
              "      <th>accepted_at</th>\n",
              "      <th>payday</th>\n",
              "      <th>interest_rate</th>\n",
              "      <th>installment_number</th>\n",
              "      <th>due_date</th>\n",
              "      <th>id</th>\n",
              "      <th>payment_date</th>\n",
              "      <th>method</th>\n",
              "      <th>amount</th>\n",
              "      <th>latency</th>\n",
              "      <th>Diference_pay_day</th>\n",
              "      <th>Over30</th>\n",
              "    </tr>\n",
              "  </thead>\n",
              "  <tbody>\n",
              "    <tr>\n",
              "      <th>0</th>\n",
              "      <td>291</td>\n",
              "      <td>12</td>\n",
              "      <td>2017-05-11 13:00:31.620</td>\n",
              "      <td>5</td>\n",
              "      <td>7.55</td>\n",
              "      <td>1</td>\n",
              "      <td>2017-06-12</td>\n",
              "      <td>4865e86e-4042-412f-be34-5df45cae39af</td>\n",
              "      <td>2018-02-23</td>\n",
              "      <td>creditcard</td>\n",
              "      <td>454.94</td>\n",
              "      <td>True</td>\n",
              "      <td>256.0</td>\n",
              "      <td>False</td>\n",
              "    </tr>\n",
              "    <tr>\n",
              "      <th>1</th>\n",
              "      <td>291</td>\n",
              "      <td>12</td>\n",
              "      <td>2017-05-11 13:00:31.620</td>\n",
              "      <td>5</td>\n",
              "      <td>7.55</td>\n",
              "      <td>1</td>\n",
              "      <td>2017-06-12</td>\n",
              "      <td>5b6bf993-faec-4bd0-89f4-e3600518acd7</td>\n",
              "      <td>2017-12-31</td>\n",
              "      <td>creditcard</td>\n",
              "      <td>454.94</td>\n",
              "      <td>True</td>\n",
              "      <td>202.0</td>\n",
              "      <td>False</td>\n",
              "    </tr>\n",
              "    <tr>\n",
              "      <th>2</th>\n",
              "      <td>291</td>\n",
              "      <td>12</td>\n",
              "      <td>2017-05-11 13:00:31.620</td>\n",
              "      <td>5</td>\n",
              "      <td>7.55</td>\n",
              "      <td>1</td>\n",
              "      <td>2017-06-12</td>\n",
              "      <td>77b437f6-f1ea-4ade-b074-b0d0a855a7c0</td>\n",
              "      <td>2018-04-12</td>\n",
              "      <td>ted</td>\n",
              "      <td>454.94</td>\n",
              "      <td>True</td>\n",
              "      <td>304.0</td>\n",
              "      <td>False</td>\n",
              "    </tr>\n",
              "    <tr>\n",
              "      <th>3</th>\n",
              "      <td>291</td>\n",
              "      <td>12</td>\n",
              "      <td>2017-05-11 13:00:31.620</td>\n",
              "      <td>5</td>\n",
              "      <td>7.55</td>\n",
              "      <td>1</td>\n",
              "      <td>2017-06-12</td>\n",
              "      <td>abc5cefe-0c08-4816-8182-c3723a47cc9b</td>\n",
              "      <td>2018-01-23</td>\n",
              "      <td>creditcard</td>\n",
              "      <td>454.94</td>\n",
              "      <td>True</td>\n",
              "      <td>225.0</td>\n",
              "      <td>False</td>\n",
              "    </tr>\n",
              "    <tr>\n",
              "      <th>4</th>\n",
              "      <td>291</td>\n",
              "      <td>12</td>\n",
              "      <td>2017-05-11 13:00:31.620</td>\n",
              "      <td>5</td>\n",
              "      <td>7.55</td>\n",
              "      <td>1</td>\n",
              "      <td>2017-06-12</td>\n",
              "      <td>46410647-eb71-49b9-a566-ffbc4c203423</td>\n",
              "      <td>2017-11-19</td>\n",
              "      <td>ted</td>\n",
              "      <td>457.94</td>\n",
              "      <td>True</td>\n",
              "      <td>160.0</td>\n",
              "      <td>False</td>\n",
              "    </tr>\n",
              "    <tr>\n",
              "      <th>...</th>\n",
              "      <td>...</td>\n",
              "      <td>...</td>\n",
              "      <td>...</td>\n",
              "      <td>...</td>\n",
              "      <td>...</td>\n",
              "      <td>...</td>\n",
              "      <td>...</td>\n",
              "      <td>...</td>\n",
              "      <td>...</td>\n",
              "      <td>...</td>\n",
              "      <td>...</td>\n",
              "      <td>...</td>\n",
              "      <td>...</td>\n",
              "      <td>...</td>\n",
              "    </tr>\n",
              "    <tr>\n",
              "      <th>65218</th>\n",
              "      <td>522</td>\n",
              "      <td>12</td>\n",
              "      <td>2017-05-25 05:51:23.106</td>\n",
              "      <td>15</td>\n",
              "      <td>7.55</td>\n",
              "      <td>10</td>\n",
              "      <td>2018-03-22</td>\n",
              "      <td>23324a12-e651-4572-9e64-bf2ddb4a0064</td>\n",
              "      <td>2017-10-17</td>\n",
              "      <td>boleto</td>\n",
              "      <td>245.52</td>\n",
              "      <td>False</td>\n",
              "      <td>-156.0</td>\n",
              "      <td>NaN</td>\n",
              "    </tr>\n",
              "    <tr>\n",
              "      <th>65219</th>\n",
              "      <td>522</td>\n",
              "      <td>12</td>\n",
              "      <td>2017-05-25 05:51:23.106</td>\n",
              "      <td>15</td>\n",
              "      <td>7.55</td>\n",
              "      <td>10</td>\n",
              "      <td>2018-03-22</td>\n",
              "      <td>47822864-bccf-42c0-a231-001ed8f8215a</td>\n",
              "      <td>2017-09-08</td>\n",
              "      <td>ted</td>\n",
              "      <td>245.52</td>\n",
              "      <td>False</td>\n",
              "      <td>-195.0</td>\n",
              "      <td>NaN</td>\n",
              "    </tr>\n",
              "    <tr>\n",
              "      <th>65220</th>\n",
              "      <td>522</td>\n",
              "      <td>12</td>\n",
              "      <td>2017-05-25 05:51:23.106</td>\n",
              "      <td>15</td>\n",
              "      <td>7.55</td>\n",
              "      <td>10</td>\n",
              "      <td>2018-03-22</td>\n",
              "      <td>0b2241a5-965f-4710-8d91-af178af4ec8f</td>\n",
              "      <td>2017-07-31</td>\n",
              "      <td>creditcard</td>\n",
              "      <td>245.52</td>\n",
              "      <td>False</td>\n",
              "      <td>-234.0</td>\n",
              "      <td>NaN</td>\n",
              "    </tr>\n",
              "    <tr>\n",
              "      <th>65221</th>\n",
              "      <td>522</td>\n",
              "      <td>12</td>\n",
              "      <td>2017-05-25 05:51:23.106</td>\n",
              "      <td>15</td>\n",
              "      <td>7.55</td>\n",
              "      <td>10</td>\n",
              "      <td>2018-03-22</td>\n",
              "      <td>6217c90d-5bfa-4883-bad2-6014f2b65b32</td>\n",
              "      <td>2017-07-27</td>\n",
              "      <td>ted</td>\n",
              "      <td>256.52</td>\n",
              "      <td>False</td>\n",
              "      <td>-238.0</td>\n",
              "      <td>NaN</td>\n",
              "    </tr>\n",
              "    <tr>\n",
              "      <th>65222</th>\n",
              "      <td>522</td>\n",
              "      <td>12</td>\n",
              "      <td>2017-05-25 05:51:23.106</td>\n",
              "      <td>15</td>\n",
              "      <td>7.55</td>\n",
              "      <td>10</td>\n",
              "      <td>2018-03-22</td>\n",
              "      <td>e6c22fa0-91d6-49e5-89aa-a7c929a9e18c</td>\n",
              "      <td>2017-06-13</td>\n",
              "      <td>ted</td>\n",
              "      <td>245.52</td>\n",
              "      <td>False</td>\n",
              "      <td>-282.0</td>\n",
              "      <td>NaN</td>\n",
              "    </tr>\n",
              "  </tbody>\n",
              "</table>\n",
              "<p>65223 rows × 14 columns</p>\n",
              "</div>"
            ],
            "text/plain": [
              "       loan_id  period  ... Diference_pay_day  Over30\n",
              "0          291      12  ...             256.0   False\n",
              "1          291      12  ...             202.0   False\n",
              "2          291      12  ...             304.0   False\n",
              "3          291      12  ...             225.0   False\n",
              "4          291      12  ...             160.0   False\n",
              "...        ...     ...  ...               ...     ...\n",
              "65218      522      12  ...            -156.0     NaN\n",
              "65219      522      12  ...            -195.0     NaN\n",
              "65220      522      12  ...            -234.0     NaN\n",
              "65221      522      12  ...            -238.0     NaN\n",
              "65222      522      12  ...            -282.0     NaN\n",
              "\n",
              "[65223 rows x 14 columns]"
            ]
          },
          "metadata": {
            "tags": []
          },
          "execution_count": 15
        }
      ]
    },
    {
      "cell_type": "code",
      "metadata": {
        "id": "uVcCP8peLy6y",
        "colab_type": "code",
        "colab": {
          "base_uri": "https://localhost:8080/",
          "height": 87
        },
        "outputId": "9d9cdc25-9bd0-4c8c-a614-b1cb2e5dfca3"
      },
      "source": [
        "df.columns"
      ],
      "execution_count": null,
      "outputs": [
        {
          "output_type": "execute_result",
          "data": {
            "text/plain": [
              "Index(['loan_id', 'period', 'accepted_at', 'payday', 'interest_rate',\n",
              "       'installment_number', 'due_date', 'id', 'payment_date', 'method',\n",
              "       'amount', 'latency', 'Diference_pay_day', 'Over30'],\n",
              "      dtype='object')"
            ]
          },
          "metadata": {
            "tags": []
          },
          "execution_count": 16
        }
      ]
    },
    {
      "cell_type": "markdown",
      "metadata": {
        "id": "4ul10SKPHkVI",
        "colab_type": "text"
      },
      "source": [
        "Salvo a Table em um arquivo parquet"
      ]
    },
    {
      "cell_type": "code",
      "metadata": {
        "id": "EG3htSlR6BXm",
        "colab_type": "code",
        "colab": {}
      },
      "source": [
        "# descarto aqui a coluna auxiliar 'Diference_pay_day' e salvo a table no arquivo parquet\n",
        "\n",
        "df.drop('Diference_pay_day', axis=1, inplace=True)\n",
        "df.to_parquet('loan_documents.parquet')"
      ],
      "execution_count": null,
      "outputs": []
    },
    {
      "cell_type": "markdown",
      "metadata": {
        "id": "vLUBPtzBHwhh",
        "colab_type": "text"
      },
      "source": [
        "Leio o arquivo parquet, transformo em um dataframe spark e dou início às respostas para as 4 perguntas "
      ]
    },
    {
      "cell_type": "code",
      "metadata": {
        "id": "9e0XrdL3NpvP",
        "colab_type": "code",
        "colab": {
          "base_uri": "https://localhost:8080/",
          "height": 488
        },
        "outputId": "9c43bd8a-8204-4271-c5b7-328366aa1c72"
      },
      "source": [
        "df_loan_documents = sc.read.format('parquet').load('loan_documents.parquet')\n",
        "df_loan_documents.show()"
      ],
      "execution_count": 316,
      "outputs": [
        {
          "output_type": "stream",
          "text": [
            "+-------+------+--------------------+------+-------------+------------------+----------+--------------------+------------+----------+------+-------+------+\n",
            "|loan_id|period|         accepted_at|payday|interest_rate|installment_number|  due_date|                  id|payment_date|    method|amount|latency|Over30|\n",
            "+-------+------+--------------------+------+-------------+------------------+----------+--------------------+------------+----------+------+-------+------+\n",
            "|    291|    12|2017-05-11 13:00:...|     5|         7.55|                 1|2017-06-12|4865e86e-4042-412...|  2018-02-23|creditcard|454.94|   True| False|\n",
            "|    291|    12|2017-05-11 13:00:...|     5|         7.55|                 1|2017-06-12|5b6bf993-faec-4bd...|  2017-12-31|creditcard|454.94|   True| False|\n",
            "|    291|    12|2017-05-11 13:00:...|     5|         7.55|                 1|2017-06-12|77b437f6-f1ea-4ad...|  2018-04-12|       ted|454.94|   True| False|\n",
            "|    291|    12|2017-05-11 13:00:...|     5|         7.55|                 1|2017-06-12|abc5cefe-0c08-481...|  2018-01-23|creditcard|454.94|   True| False|\n",
            "|    291|    12|2017-05-11 13:00:...|     5|         7.55|                 1|2017-06-12|46410647-eb71-49b...|  2017-11-19|       ted|457.94|   True| False|\n",
            "|    291|    12|2017-05-11 13:00:...|     5|         7.55|                 1|2017-06-12|91bdae2d-f1ba-40a...|  2017-12-05|creditcard|454.94|   True| False|\n",
            "|    291|    12|2017-05-11 13:00:...|     5|         7.55|                 1|2017-06-12|4389d87f-570a-4a7...|  2018-05-14|creditcard|456.94|   True| False|\n",
            "|    291|    12|2017-05-11 13:00:...|     5|         7.55|                 1|2017-06-12|1c957990-5245-41e...|  2017-10-19|    boleto|462.94|   True| False|\n",
            "|    291|    12|2017-05-11 13:00:...|     5|         7.55|                 1|2017-06-12|35734218-a71f-411...|  2017-07-23|       ted|454.94|   True| False|\n",
            "|    291|    12|2017-05-11 13:00:...|     5|         7.55|                 1|2017-06-12|e747c7f0-bd95-4ac...|  2017-07-03|       ted|454.94|   True| False|\n",
            "|    291|    12|2017-05-11 13:00:...|     5|         7.55|                 1|2017-06-12|8ad9e0e5-a232-477...|  2017-06-01|creditcard|454.94|  False|  null|\n",
            "|    291|    12|2017-05-11 13:00:...|     5|         7.55|                 2|2017-07-12|4865e86e-4042-412...|  2018-02-23|creditcard|454.94|   True| False|\n",
            "|    291|    12|2017-05-11 13:00:...|     5|         7.55|                 2|2017-07-12|5b6bf993-faec-4bd...|  2017-12-31|creditcard|454.94|   True| False|\n",
            "|    291|    12|2017-05-11 13:00:...|     5|         7.55|                 2|2017-07-12|77b437f6-f1ea-4ad...|  2018-04-12|       ted|454.94|   True| False|\n",
            "|    291|    12|2017-05-11 13:00:...|     5|         7.55|                 2|2017-07-12|abc5cefe-0c08-481...|  2018-01-23|creditcard|454.94|   True| False|\n",
            "|    291|    12|2017-05-11 13:00:...|     5|         7.55|                 2|2017-07-12|46410647-eb71-49b...|  2017-11-19|       ted|457.94|   True| False|\n",
            "|    291|    12|2017-05-11 13:00:...|     5|         7.55|                 2|2017-07-12|91bdae2d-f1ba-40a...|  2017-12-05|creditcard|454.94|   True| False|\n",
            "|    291|    12|2017-05-11 13:00:...|     5|         7.55|                 2|2017-07-12|4389d87f-570a-4a7...|  2018-05-14|creditcard|456.94|   True| False|\n",
            "|    291|    12|2017-05-11 13:00:...|     5|         7.55|                 2|2017-07-12|1c957990-5245-41e...|  2017-10-19|    boleto|462.94|   True| False|\n",
            "|    291|    12|2017-05-11 13:00:...|     5|         7.55|                 2|2017-07-12|35734218-a71f-411...|  2017-07-23|       ted|454.94|   True| False|\n",
            "+-------+------+--------------------+------+-------------+------------------+----------+--------------------+------------+----------+------+-------+------+\n",
            "only showing top 20 rows\n",
            "\n"
          ],
          "name": "stdout"
        }
      ]
    },
    {
      "cell_type": "code",
      "metadata": {
        "id": "_yG21E7HNpgB",
        "colab_type": "code",
        "colab": {
          "base_uri": "https://localhost:8080/",
          "height": 35
        },
        "outputId": "1bbe16fc-e5eb-41c4-903f-66b3d00870a1"
      },
      "source": [
        "df_vencimento_2019 = df_loan_documents.filter(df_loan_documents['due_date'].between('2019-01-01', '2019-12-31'))\n",
        "df_faturamento_2019 = df_loan_documents.filter(df_loan_documents['payment_date'].between('2019-01-01', '2019-12-31'))\n",
        "# df_vencimento_2019.show()\n",
        "type(df_faturamento_2019)"
      ],
      "execution_count": null,
      "outputs": [
        {
          "output_type": "execute_result",
          "data": {
            "text/plain": [
              "pyspark.sql.dataframe.DataFrame"
            ]
          },
          "metadata": {
            "tags": []
          },
          "execution_count": 19
        }
      ]
    },
    {
      "cell_type": "code",
      "metadata": {
        "id": "IKyEH8srnyRT",
        "colab_type": "code",
        "colab": {
          "base_uri": "https://localhost:8080/",
          "height": 417
        },
        "outputId": "9de5b60f-c35f-43b7-d665-3a62824d7dbc"
      },
      "source": [
        "from pyspark.sql.functions import lit\n",
        "# import org.apache.spark.sql.functions.typedLit\n",
        "df_venc = df_vencimento_2019.sort('due_date').groupBy(\"due_date\").sum().select(col('sum(amount)').alias('venc_amount')).withColumn('year', lit('2019')).toPandas()\n",
        "df_venc"
      ],
      "execution_count": null,
      "outputs": [
        {
          "output_type": "execute_result",
          "data": {
            "text/html": [
              "<div>\n",
              "<style scoped>\n",
              "    .dataframe tbody tr th:only-of-type {\n",
              "        vertical-align: middle;\n",
              "    }\n",
              "\n",
              "    .dataframe tbody tr th {\n",
              "        vertical-align: top;\n",
              "    }\n",
              "\n",
              "    .dataframe thead th {\n",
              "        text-align: right;\n",
              "    }\n",
              "</style>\n",
              "<table border=\"1\" class=\"dataframe\">\n",
              "  <thead>\n",
              "    <tr style=\"text-align: right;\">\n",
              "      <th></th>\n",
              "      <th>venc_amount</th>\n",
              "      <th>year</th>\n",
              "    </tr>\n",
              "  </thead>\n",
              "  <tbody>\n",
              "    <tr>\n",
              "      <th>0</th>\n",
              "      <td>2690.64</td>\n",
              "      <td>2019</td>\n",
              "    </tr>\n",
              "    <tr>\n",
              "      <th>1</th>\n",
              "      <td>2690.64</td>\n",
              "      <td>2019</td>\n",
              "    </tr>\n",
              "    <tr>\n",
              "      <th>2</th>\n",
              "      <td>2690.64</td>\n",
              "      <td>2019</td>\n",
              "    </tr>\n",
              "    <tr>\n",
              "      <th>3</th>\n",
              "      <td>2690.64</td>\n",
              "      <td>2019</td>\n",
              "    </tr>\n",
              "    <tr>\n",
              "      <th>4</th>\n",
              "      <td>4138.19</td>\n",
              "      <td>2019</td>\n",
              "    </tr>\n",
              "    <tr>\n",
              "      <th>5</th>\n",
              "      <td>4138.19</td>\n",
              "      <td>2019</td>\n",
              "    </tr>\n",
              "    <tr>\n",
              "      <th>6</th>\n",
              "      <td>1447.55</td>\n",
              "      <td>2019</td>\n",
              "    </tr>\n",
              "    <tr>\n",
              "      <th>7</th>\n",
              "      <td>1447.55</td>\n",
              "      <td>2019</td>\n",
              "    </tr>\n",
              "    <tr>\n",
              "      <th>8</th>\n",
              "      <td>1447.55</td>\n",
              "      <td>2019</td>\n",
              "    </tr>\n",
              "    <tr>\n",
              "      <th>9</th>\n",
              "      <td>1447.55</td>\n",
              "      <td>2019</td>\n",
              "    </tr>\n",
              "    <tr>\n",
              "      <th>10</th>\n",
              "      <td>1447.55</td>\n",
              "      <td>2019</td>\n",
              "    </tr>\n",
              "    <tr>\n",
              "      <th>11</th>\n",
              "      <td>1447.55</td>\n",
              "      <td>2019</td>\n",
              "    </tr>\n",
              "  </tbody>\n",
              "</table>\n",
              "</div>"
            ],
            "text/plain": [
              "    venc_amount  year\n",
              "0       2690.64  2019\n",
              "1       2690.64  2019\n",
              "2       2690.64  2019\n",
              "3       2690.64  2019\n",
              "4       4138.19  2019\n",
              "5       4138.19  2019\n",
              "6       1447.55  2019\n",
              "7       1447.55  2019\n",
              "8       1447.55  2019\n",
              "9       1447.55  2019\n",
              "10      1447.55  2019\n",
              "11      1447.55  2019"
            ]
          },
          "metadata": {
            "tags": []
          },
          "execution_count": 55
        }
      ]
    },
    {
      "cell_type": "code",
      "metadata": {
        "id": "AiEGs3r4oqzE",
        "colab_type": "code",
        "colab": {
          "base_uri": "https://localhost:8080/",
          "height": 294
        },
        "outputId": "949f90e7-8230-4562-d9ff-4fb29e21b2cf"
      },
      "source": [
        "df_fat = df_faturamento_2019.sort('payment_date').groupBy(\"payment_date\").sum()\\\n",
        ".filter(df_faturamento_2019.payment_date != '2019-05-15').filter(df_faturamento_2019.payment_date != '2019-06-11')\\\n",
        "            .select('payment_date',col('sum(amount)').alias('amount')).toPandas()\n",
        "df_fat"
      ],
      "execution_count": null,
      "outputs": [
        {
          "output_type": "execute_result",
          "data": {
            "text/html": [
              "<div>\n",
              "<style scoped>\n",
              "    .dataframe tbody tr th:only-of-type {\n",
              "        vertical-align: middle;\n",
              "    }\n",
              "\n",
              "    .dataframe tbody tr th {\n",
              "        vertical-align: top;\n",
              "    }\n",
              "\n",
              "    .dataframe thead th {\n",
              "        text-align: right;\n",
              "    }\n",
              "</style>\n",
              "<table border=\"1\" class=\"dataframe\">\n",
              "  <thead>\n",
              "    <tr style=\"text-align: right;\">\n",
              "      <th></th>\n",
              "      <th>payment_date</th>\n",
              "      <th>amount</th>\n",
              "    </tr>\n",
              "  </thead>\n",
              "  <tbody>\n",
              "    <tr>\n",
              "      <th>0</th>\n",
              "      <td>2019-01-05</td>\n",
              "      <td>3539.52</td>\n",
              "    </tr>\n",
              "    <tr>\n",
              "      <th>1</th>\n",
              "      <td>2019-02-24</td>\n",
              "      <td>3719.52</td>\n",
              "    </tr>\n",
              "    <tr>\n",
              "      <th>2</th>\n",
              "      <td>2019-03-19</td>\n",
              "      <td>3539.52</td>\n",
              "    </tr>\n",
              "    <tr>\n",
              "      <th>3</th>\n",
              "      <td>2019-05-21</td>\n",
              "      <td>3539.52</td>\n",
              "    </tr>\n",
              "    <tr>\n",
              "      <th>4</th>\n",
              "      <td>2019-06-15</td>\n",
              "      <td>3474.12</td>\n",
              "    </tr>\n",
              "    <tr>\n",
              "      <th>5</th>\n",
              "      <td>2019-07-15</td>\n",
              "      <td>3474.12</td>\n",
              "    </tr>\n",
              "    <tr>\n",
              "      <th>6</th>\n",
              "      <td>2019-08-15</td>\n",
              "      <td>3474.12</td>\n",
              "    </tr>\n",
              "    <tr>\n",
              "      <th>7</th>\n",
              "      <td>2019-10-15</td>\n",
              "      <td>3474.12</td>\n",
              "    </tr>\n",
              "  </tbody>\n",
              "</table>\n",
              "</div>"
            ],
            "text/plain": [
              "  payment_date   amount\n",
              "0   2019-01-05  3539.52\n",
              "1   2019-02-24  3719.52\n",
              "2   2019-03-19  3539.52\n",
              "3   2019-05-21  3539.52\n",
              "4   2019-06-15  3474.12\n",
              "5   2019-07-15  3474.12\n",
              "6   2019-08-15  3474.12\n",
              "7   2019-10-15  3474.12"
            ]
          },
          "metadata": {
            "tags": []
          },
          "execution_count": 56
        }
      ]
    },
    {
      "cell_type": "code",
      "metadata": {
        "id": "b2Qol22Jed4D",
        "colab_type": "code",
        "colab": {}
      },
      "source": [
        "import pandas as pd\n",
        "p1 = pd.concat([df_fat,df_venc], axis=1) \n",
        "p1.loc[:,'Ratio'] = (round(p1['amount']/ (p1['venc_amount'])*100))\n",
        "# p1 = p1[['year','amount', 'Ratio']]\n",
        "# p1.loc['payment_date'] = p1.payment_date.astype(str)[4:7]"
      ],
      "execution_count": null,
      "outputs": []
    },
    {
      "cell_type": "markdown",
      "metadata": {
        "id": "eNhAyQpeF3io",
        "colab_type": "text"
      },
      "source": [
        "Resposta pergunta 1"
      ]
    },
    {
      "cell_type": "code",
      "metadata": {
        "id": "tjyGrZhKzGB4",
        "colab_type": "code",
        "colab": {
          "base_uri": "https://localhost:8080/",
          "height": 417
        },
        "outputId": "eb775142-581b-4e08-f20e-cafb28ab8206"
      },
      "source": [
        "datas = list(p1.payment_date.values)\n",
        "month = []\n",
        "for data in datas[:8]:\n",
        "  # if data != 'NaN':\n",
        "  month.append(data.strftime('%m'))\n",
        "meses = pd.DataFrame(month, columns=['month'])\n",
        "meses\n",
        "\n",
        "P1 =pd.concat([p1,meses], axis = 1)\n",
        "P1 = P1[['month', 'year', 'amount', 'Ratio']]\n",
        "P1"
      ],
      "execution_count": null,
      "outputs": [
        {
          "output_type": "execute_result",
          "data": {
            "text/html": [
              "<div>\n",
              "<style scoped>\n",
              "    .dataframe tbody tr th:only-of-type {\n",
              "        vertical-align: middle;\n",
              "    }\n",
              "\n",
              "    .dataframe tbody tr th {\n",
              "        vertical-align: top;\n",
              "    }\n",
              "\n",
              "    .dataframe thead th {\n",
              "        text-align: right;\n",
              "    }\n",
              "</style>\n",
              "<table border=\"1\" class=\"dataframe\">\n",
              "  <thead>\n",
              "    <tr style=\"text-align: right;\">\n",
              "      <th></th>\n",
              "      <th>month</th>\n",
              "      <th>year</th>\n",
              "      <th>amount</th>\n",
              "      <th>Ratio</th>\n",
              "    </tr>\n",
              "  </thead>\n",
              "  <tbody>\n",
              "    <tr>\n",
              "      <th>0</th>\n",
              "      <td>01</td>\n",
              "      <td>2019</td>\n",
              "      <td>3539.52</td>\n",
              "      <td>132.0</td>\n",
              "    </tr>\n",
              "    <tr>\n",
              "      <th>1</th>\n",
              "      <td>02</td>\n",
              "      <td>2019</td>\n",
              "      <td>3719.52</td>\n",
              "      <td>138.0</td>\n",
              "    </tr>\n",
              "    <tr>\n",
              "      <th>2</th>\n",
              "      <td>03</td>\n",
              "      <td>2019</td>\n",
              "      <td>3539.52</td>\n",
              "      <td>132.0</td>\n",
              "    </tr>\n",
              "    <tr>\n",
              "      <th>3</th>\n",
              "      <td>05</td>\n",
              "      <td>2019</td>\n",
              "      <td>3539.52</td>\n",
              "      <td>132.0</td>\n",
              "    </tr>\n",
              "    <tr>\n",
              "      <th>4</th>\n",
              "      <td>06</td>\n",
              "      <td>2019</td>\n",
              "      <td>3474.12</td>\n",
              "      <td>84.0</td>\n",
              "    </tr>\n",
              "    <tr>\n",
              "      <th>5</th>\n",
              "      <td>07</td>\n",
              "      <td>2019</td>\n",
              "      <td>3474.12</td>\n",
              "      <td>84.0</td>\n",
              "    </tr>\n",
              "    <tr>\n",
              "      <th>6</th>\n",
              "      <td>08</td>\n",
              "      <td>2019</td>\n",
              "      <td>3474.12</td>\n",
              "      <td>240.0</td>\n",
              "    </tr>\n",
              "    <tr>\n",
              "      <th>7</th>\n",
              "      <td>10</td>\n",
              "      <td>2019</td>\n",
              "      <td>3474.12</td>\n",
              "      <td>240.0</td>\n",
              "    </tr>\n",
              "    <tr>\n",
              "      <th>8</th>\n",
              "      <td>NaN</td>\n",
              "      <td>2019</td>\n",
              "      <td>NaN</td>\n",
              "      <td>NaN</td>\n",
              "    </tr>\n",
              "    <tr>\n",
              "      <th>9</th>\n",
              "      <td>NaN</td>\n",
              "      <td>2019</td>\n",
              "      <td>NaN</td>\n",
              "      <td>NaN</td>\n",
              "    </tr>\n",
              "    <tr>\n",
              "      <th>10</th>\n",
              "      <td>NaN</td>\n",
              "      <td>2019</td>\n",
              "      <td>NaN</td>\n",
              "      <td>NaN</td>\n",
              "    </tr>\n",
              "    <tr>\n",
              "      <th>11</th>\n",
              "      <td>NaN</td>\n",
              "      <td>2019</td>\n",
              "      <td>NaN</td>\n",
              "      <td>NaN</td>\n",
              "    </tr>\n",
              "  </tbody>\n",
              "</table>\n",
              "</div>"
            ],
            "text/plain": [
              "   month  year   amount  Ratio\n",
              "0     01  2019  3539.52  132.0\n",
              "1     02  2019  3719.52  138.0\n",
              "2     03  2019  3539.52  132.0\n",
              "3     05  2019  3539.52  132.0\n",
              "4     06  2019  3474.12   84.0\n",
              "5     07  2019  3474.12   84.0\n",
              "6     08  2019  3474.12  240.0\n",
              "7     10  2019  3474.12  240.0\n",
              "8    NaN  2019      NaN    NaN\n",
              "9    NaN  2019      NaN    NaN\n",
              "10   NaN  2019      NaN    NaN\n",
              "11   NaN  2019      NaN    NaN"
            ]
          },
          "metadata": {
            "tags": []
          },
          "execution_count": 103
        }
      ]
    },
    {
      "cell_type": "code",
      "metadata": {
        "id": "EIFje4kpPgS4",
        "colab_type": "code",
        "colab": {
          "base_uri": "https://localhost:8080/",
          "height": 52
        },
        "outputId": "d4066d37-e567-435e-9ef2-0ab5d05228a9"
      },
      "source": [
        "df_payday = df_spark_mens_2019.select('payday', 'accepted_at').toPandas()\n",
        "df_payday.payday.mode()"
      ],
      "execution_count": 207,
      "outputs": [
        {
          "output_type": "execute_result",
          "data": {
            "text/plain": [
              "0    15\n",
              "dtype: int32"
            ]
          },
          "metadata": {
            "tags": []
          },
          "execution_count": 207
        }
      ]
    },
    {
      "cell_type": "code",
      "metadata": {
        "id": "oVlRGDl386YH",
        "colab_type": "code",
        "colab": {
          "base_uri": "https://localhost:8080/",
          "height": 79
        },
        "outputId": "4a4c8e04-4c40-491d-d9c0-df49a81bd747"
      },
      "source": [
        "df_spark_mens_2019 = df_loan_documents.filter(df_loan_documents['accepted_at'].between('2019-01-01', '2019-12-31'))\n",
        "\n",
        "df_means_pd = df_spark_mens_2019.sort('accepted_at').groupBy(\"accepted_at\").mean()\\\n",
        ".select(col('accepted_at').alias('Date'),col('avg(period)').alias('avg_period'),col('avg(interest_rate)').alias('avg_interest_ratio'),\\\n",
        "        col('avg(payday)').alias('freq_payday')).withColumn('year', lit('2019'))\\\n",
        "        .withColumn(\"date\", to_date(substring('Date', 0, 10), \"yyyy-MM-dd\"))\\\n",
        "        .toPandas()\n",
        "\n",
        "df_means_pd\n"
      ],
      "execution_count": 208,
      "outputs": [
        {
          "output_type": "execute_result",
          "data": {
            "text/html": [
              "<div>\n",
              "<style scoped>\n",
              "    .dataframe tbody tr th:only-of-type {\n",
              "        vertical-align: middle;\n",
              "    }\n",
              "\n",
              "    .dataframe tbody tr th {\n",
              "        vertical-align: top;\n",
              "    }\n",
              "\n",
              "    .dataframe thead th {\n",
              "        text-align: right;\n",
              "    }\n",
              "</style>\n",
              "<table border=\"1\" class=\"dataframe\">\n",
              "  <thead>\n",
              "    <tr style=\"text-align: right;\">\n",
              "      <th></th>\n",
              "      <th>date</th>\n",
              "      <th>avg_period</th>\n",
              "      <th>avg_interest_ratio</th>\n",
              "      <th>freq_payday</th>\n",
              "      <th>year</th>\n",
              "    </tr>\n",
              "  </thead>\n",
              "  <tbody>\n",
              "    <tr>\n",
              "      <th>0</th>\n",
              "      <td>2019-04-26</td>\n",
              "      <td>12.0</td>\n",
              "      <td>7.55</td>\n",
              "      <td>15.0</td>\n",
              "      <td>2019</td>\n",
              "    </tr>\n",
              "  </tbody>\n",
              "</table>\n",
              "</div>"
            ],
            "text/plain": [
              "         date  avg_period  avg_interest_ratio  freq_payday  year\n",
              "0  2019-04-26        12.0                7.55         15.0  2019"
            ]
          },
          "metadata": {
            "tags": []
          },
          "execution_count": 208
        }
      ]
    },
    {
      "cell_type": "markdown",
      "metadata": {
        "id": "SXhz6Vt_FtGq",
        "colab_type": "text"
      },
      "source": [
        "Resposta 2"
      ]
    },
    {
      "cell_type": "code",
      "metadata": {
        "id": "69n7wtfA874u",
        "colab_type": "code",
        "colab": {
          "base_uri": "https://localhost:8080/",
          "height": 79
        },
        "outputId": "e2e8948d-235f-469b-d5f2-a91e11733295"
      },
      "source": [
        "\n",
        "# df_means_pd.Date = df_means_pd.Date\n",
        "datas = list(df_means_pd.date.values)\n",
        "month = []\n",
        "for data in datas:\n",
        "  # if data != 'NaN':\n",
        "  month.append(data.strftime('%m'))\n",
        "\n",
        "\n",
        "meses = pd.DataFrame(month, columns=['month'])\n",
        "meses\n",
        "\n",
        "P2 = pd.concat([df_means_pd, meses], axis = 1)\n",
        "P2 = P2[['month', 'year', 'avg_period',\t'avg_interest_ratio',\t'avg_payday']]\n",
        "P2"
      ],
      "execution_count": 181,
      "outputs": [
        {
          "output_type": "execute_result",
          "data": {
            "text/html": [
              "<div>\n",
              "<style scoped>\n",
              "    .dataframe tbody tr th:only-of-type {\n",
              "        vertical-align: middle;\n",
              "    }\n",
              "\n",
              "    .dataframe tbody tr th {\n",
              "        vertical-align: top;\n",
              "    }\n",
              "\n",
              "    .dataframe thead th {\n",
              "        text-align: right;\n",
              "    }\n",
              "</style>\n",
              "<table border=\"1\" class=\"dataframe\">\n",
              "  <thead>\n",
              "    <tr style=\"text-align: right;\">\n",
              "      <th></th>\n",
              "      <th>month</th>\n",
              "      <th>year</th>\n",
              "      <th>avg_period</th>\n",
              "      <th>avg_interest_ratio</th>\n",
              "      <th>avg_payday</th>\n",
              "    </tr>\n",
              "  </thead>\n",
              "  <tbody>\n",
              "    <tr>\n",
              "      <th>0</th>\n",
              "      <td>04</td>\n",
              "      <td>2019</td>\n",
              "      <td>12.0</td>\n",
              "      <td>7.55</td>\n",
              "      <td>15.0</td>\n",
              "    </tr>\n",
              "  </tbody>\n",
              "</table>\n",
              "</div>"
            ],
            "text/plain": [
              "  month  year  avg_period  avg_interest_ratio  avg_payday\n",
              "0    04  2019        12.0                7.55        15.0"
            ]
          },
          "metadata": {
            "tags": []
          },
          "execution_count": 181
        }
      ]
    },
    {
      "cell_type": "code",
      "metadata": {
        "id": "D8Vur7hAgJO7",
        "colab_type": "code",
        "colab": {
          "base_uri": "https://localhost:8080/",
          "height": 399
        },
        "outputId": "7f12973f-8aaf-47d3-8937-ad64654c6a53"
      },
      "source": [
        "df_loan_documents.groupby('period').count().show()\n",
        "df_loan_documents.groupby('interest_rate').count().show()"
      ],
      "execution_count": 259,
      "outputs": [
        {
          "output_type": "stream",
          "text": [
            "+------+-----+\n",
            "|period|count|\n",
            "+------+-----+\n",
            "|    12|61212|\n",
            "|     6| 1356|\n",
            "|     9| 2655|\n",
            "+------+-----+\n",
            "\n",
            "+-------------+-----+\n",
            "|interest_rate|count|\n",
            "+-------------+-----+\n",
            "|         5.74|   60|\n",
            "|         7.49| 2451|\n",
            "|         3.12| 8124|\n",
            "|         8.01| 1008|\n",
            "|         5.23|   54|\n",
            "|         5.15|  924|\n",
            "|         3.25|  270|\n",
            "|         7.55|52044|\n",
            "|         3.68|  288|\n",
            "+-------------+-----+\n",
            "\n"
          ],
          "name": "stdout"
        }
      ]
    },
    {
      "cell_type": "markdown",
      "metadata": {
        "id": "_SiDmW8WFhnI",
        "colab_type": "text"
      },
      "source": [
        "Identificando a taxa média de juros para tal período"
      ]
    },
    {
      "cell_type": "code",
      "metadata": {
        "id": "XHMyIxaWoBe_",
        "colab_type": "code",
        "colab": {
          "base_uri": "https://localhost:8080/",
          "height": 355
        },
        "outputId": "6b16a21b-f28e-4fd6-bd26-0c05aacb5c6e"
      },
      "source": [
        "avg_interest_rate_6 = df_loan_documents.filter(df_loan_documents['period'] == '6').groupby('interest_rate').mean().select(col('avg(interest_rate)').alias('avg_interest_rate')).toPandas()\n",
        "avg_interest_rate_9 = df_loan_documents.filter(df_loan_documents['period'] == '9').groupby('interest_rate').mean().select(col('avg(interest_rate)').alias('avg_interest_rate')).toPandas()\n",
        "avg_interest_rate_12 = df_loan_documents.filter(df_loan_documents['period'] == '12').groupby('interest_rate').mean().select(col('avg(interest_rate)').alias('avg_interest_rate')).toPandas()"
      ],
      "execution_count": 287,
      "outputs": [
        {
          "output_type": "execute_result",
          "data": {
            "text/html": [
              "<div>\n",
              "<style scoped>\n",
              "    .dataframe tbody tr th:only-of-type {\n",
              "        vertical-align: middle;\n",
              "    }\n",
              "\n",
              "    .dataframe tbody tr th {\n",
              "        vertical-align: top;\n",
              "    }\n",
              "\n",
              "    .dataframe thead th {\n",
              "        text-align: right;\n",
              "    }\n",
              "</style>\n",
              "<table border=\"1\" class=\"dataframe\">\n",
              "  <thead>\n",
              "    <tr style=\"text-align: right;\">\n",
              "      <th></th>\n",
              "      <th>avg_interest_rate</th>\n",
              "    </tr>\n",
              "  </thead>\n",
              "  <tbody>\n",
              "    <tr>\n",
              "      <th>0</th>\n",
              "      <td>5.74</td>\n",
              "    </tr>\n",
              "    <tr>\n",
              "      <th>1</th>\n",
              "      <td>8.01</td>\n",
              "    </tr>\n",
              "    <tr>\n",
              "      <th>2</th>\n",
              "      <td>3.68</td>\n",
              "    </tr>\n",
              "    <tr>\n",
              "      <th>0</th>\n",
              "      <td>7.49</td>\n",
              "    </tr>\n",
              "    <tr>\n",
              "      <th>1</th>\n",
              "      <td>5.23</td>\n",
              "    </tr>\n",
              "    <tr>\n",
              "      <th>2</th>\n",
              "      <td>3.25</td>\n",
              "    </tr>\n",
              "    <tr>\n",
              "      <th>0</th>\n",
              "      <td>7.49</td>\n",
              "    </tr>\n",
              "    <tr>\n",
              "      <th>1</th>\n",
              "      <td>3.12</td>\n",
              "    </tr>\n",
              "    <tr>\n",
              "      <th>2</th>\n",
              "      <td>5.15</td>\n",
              "    </tr>\n",
              "    <tr>\n",
              "      <th>3</th>\n",
              "      <td>7.55</td>\n",
              "    </tr>\n",
              "  </tbody>\n",
              "</table>\n",
              "</div>"
            ],
            "text/plain": [
              "   avg_interest_rate\n",
              "0               5.74\n",
              "1               8.01\n",
              "2               3.68\n",
              "0               7.49\n",
              "1               5.23\n",
              "2               3.25\n",
              "0               7.49\n",
              "1               3.12\n",
              "2               5.15\n",
              "3               7.55"
            ]
          },
          "metadata": {
            "tags": []
          },
          "execution_count": 287
        }
      ]
    },
    {
      "cell_type": "markdown",
      "metadata": {
        "id": "w2OMZF23FQJ_",
        "colab_type": "text"
      },
      "source": [
        "Identificando o dia mais frequente de pagamento para tal periodo"
      ]
    },
    {
      "cell_type": "code",
      "metadata": {
        "id": "p5OGR0h5wDnA",
        "colab_type": "code",
        "colab": {}
      },
      "source": [
        "freq_payday_6 = df_loan_documents.filter(df_loan_documents['period'] == '6').groupby('payday').count().toPandas()\n",
        "freq_payday_9 = df_loan_documents.filter(df_loan_documents['period'] == '9').groupby('payday').count().toPandas()\n",
        "freq_payday_12 = df_loan_documents.filter(df_loan_documents['period'] == '12').groupby('payday').count().toPandas()"
      ],
      "execution_count": null,
      "outputs": []
    },
    {
      "cell_type": "code",
      "metadata": {
        "id": "m4jL1eDQt5G6",
        "colab_type": "code",
        "colab": {
          "base_uri": "https://localhost:8080/",
          "height": 69
        },
        "outputId": "2eb54bab-8839-4fb9-f59c-a72382a1a1c1"
      },
      "source": [
        "# o dia 25 é o que aparece mais vezes para period = 12  - moda\n",
        "freq_payday_12.max()"
      ],
      "execution_count": 307,
      "outputs": [
        {
          "output_type": "execute_result",
          "data": {
            "text/plain": [
              "payday       25\n",
              "count     25596\n",
              "dtype: int64"
            ]
          },
          "metadata": {
            "tags": []
          },
          "execution_count": 307
        }
      ]
    },
    {
      "cell_type": "code",
      "metadata": {
        "id": "jEKxsRbau2V_",
        "colab_type": "code",
        "colab": {
          "base_uri": "https://localhost:8080/",
          "height": 69
        },
        "outputId": "a0141bca-f6d7-457d-a53e-f26028873e5b"
      },
      "source": [
        "# o dia 25 é o que aparece mais vezes para period = 9  - moda\n",
        "freq_payday_9.max()"
      ],
      "execution_count": 308,
      "outputs": [
        {
          "output_type": "execute_result",
          "data": {
            "text/plain": [
              "payday      25\n",
              "count     1269\n",
              "dtype: int64"
            ]
          },
          "metadata": {
            "tags": []
          },
          "execution_count": 308
        }
      ]
    },
    {
      "cell_type": "code",
      "metadata": {
        "id": "mochQT18vVGq",
        "colab_type": "code",
        "colab": {
          "base_uri": "https://localhost:8080/",
          "height": 69
        },
        "outputId": "0225040f-e001-4b6f-91d1-995d56bf5142"
      },
      "source": [
        "# o dia 25 é o que aparece mais vezes para period = 6  - moda\n",
        "freq_payday_6.max()"
      ],
      "execution_count": 309,
      "outputs": [
        {
          "output_type": "execute_result",
          "data": {
            "text/plain": [
              "payday     25\n",
              "count     624\n",
              "dtype: int64"
            ]
          },
          "metadata": {
            "tags": []
          },
          "execution_count": 309
        }
      ]
    },
    {
      "cell_type": "markdown",
      "metadata": {
        "id": "n-2VRPLJFBsl",
        "colab_type": "text"
      },
      "source": [
        "Resposta 3"
      ]
    },
    {
      "cell_type": "code",
      "metadata": {
        "id": "2dqAR0OatF5S",
        "colab_type": "code",
        "colab": {}
      },
      "source": [
        ""
      ],
      "execution_count": 297,
      "outputs": []
    },
    {
      "cell_type": "code",
      "metadata": {
        "id": "p0sU3udvkFPM",
        "colab_type": "code",
        "colab": {
          "base_uri": "https://localhost:8080/",
          "height": 355
        },
        "outputId": "d8f89ea3-88e1-4cfd-f3b5-658fd4930f92"
      },
      "source": [
        "interest_rate_6 = df_loan_documents.filter(df_loan_documents['period'] == '6').groupby('interest_rate').count().withColumn('period', lit('6')).withColumn('freq_payday', lit('25')).toPandas()\n",
        "interest_rate_9 = df_loan_documents.filter(df_loan_documents['period'] == '9').groupby('interest_rate').count().withColumn('period', lit('9')).withColumn('freq_payday', lit('25')).toPandas()\n",
        "interest_rate_12 = df_loan_documents.filter(df_loan_documents['period'] == '12').groupby('interest_rate').count().withColumn('period', lit('12')).withColumn('freq_payday', lit('25')).toPandas()\n",
        "\n",
        "\n",
        "df_p6= pd.concat([interest_rate_6, avg_interest_rate_6], axis=1)\n",
        "df_p9= pd.concat([interest_rate_9, avg_interest_rate_9], axis=1)\n",
        "df_p12= pd.concat([interest_rate_12, avg_interest_rate_12], axis=1)\n",
        "\n",
        "\n",
        "p3 = pd.concat([df_p6,df_p9,df_p12])\n",
        "p3 = p3[['period', 'interest_rate', 'count', 'avg_interest_rate', 'freq_payday']]\n",
        "p3.columns = ['period', 'interest_ratio', 'count_loan_id', 'avg_interest_rate', 'freq_payday']\n",
        "p3"
      ],
      "execution_count": 315,
      "outputs": [
        {
          "output_type": "execute_result",
          "data": {
            "text/html": [
              "<div>\n",
              "<style scoped>\n",
              "    .dataframe tbody tr th:only-of-type {\n",
              "        vertical-align: middle;\n",
              "    }\n",
              "\n",
              "    .dataframe tbody tr th {\n",
              "        vertical-align: top;\n",
              "    }\n",
              "\n",
              "    .dataframe thead th {\n",
              "        text-align: right;\n",
              "    }\n",
              "</style>\n",
              "<table border=\"1\" class=\"dataframe\">\n",
              "  <thead>\n",
              "    <tr style=\"text-align: right;\">\n",
              "      <th></th>\n",
              "      <th>period</th>\n",
              "      <th>interest_ratio</th>\n",
              "      <th>count_loan_id</th>\n",
              "      <th>avg_interest_rate</th>\n",
              "      <th>freq_payday</th>\n",
              "    </tr>\n",
              "  </thead>\n",
              "  <tbody>\n",
              "    <tr>\n",
              "      <th>0</th>\n",
              "      <td>6</td>\n",
              "      <td>5.74</td>\n",
              "      <td>60</td>\n",
              "      <td>5.74</td>\n",
              "      <td>25</td>\n",
              "    </tr>\n",
              "    <tr>\n",
              "      <th>1</th>\n",
              "      <td>6</td>\n",
              "      <td>8.01</td>\n",
              "      <td>1008</td>\n",
              "      <td>8.01</td>\n",
              "      <td>25</td>\n",
              "    </tr>\n",
              "    <tr>\n",
              "      <th>2</th>\n",
              "      <td>6</td>\n",
              "      <td>3.68</td>\n",
              "      <td>288</td>\n",
              "      <td>3.68</td>\n",
              "      <td>25</td>\n",
              "    </tr>\n",
              "    <tr>\n",
              "      <th>0</th>\n",
              "      <td>9</td>\n",
              "      <td>7.49</td>\n",
              "      <td>2331</td>\n",
              "      <td>7.49</td>\n",
              "      <td>25</td>\n",
              "    </tr>\n",
              "    <tr>\n",
              "      <th>1</th>\n",
              "      <td>9</td>\n",
              "      <td>5.23</td>\n",
              "      <td>54</td>\n",
              "      <td>5.23</td>\n",
              "      <td>25</td>\n",
              "    </tr>\n",
              "    <tr>\n",
              "      <th>2</th>\n",
              "      <td>9</td>\n",
              "      <td>3.25</td>\n",
              "      <td>270</td>\n",
              "      <td>3.25</td>\n",
              "      <td>25</td>\n",
              "    </tr>\n",
              "    <tr>\n",
              "      <th>0</th>\n",
              "      <td>12</td>\n",
              "      <td>7.49</td>\n",
              "      <td>120</td>\n",
              "      <td>7.49</td>\n",
              "      <td>25</td>\n",
              "    </tr>\n",
              "    <tr>\n",
              "      <th>1</th>\n",
              "      <td>12</td>\n",
              "      <td>3.12</td>\n",
              "      <td>8124</td>\n",
              "      <td>3.12</td>\n",
              "      <td>25</td>\n",
              "    </tr>\n",
              "    <tr>\n",
              "      <th>2</th>\n",
              "      <td>12</td>\n",
              "      <td>5.15</td>\n",
              "      <td>924</td>\n",
              "      <td>5.15</td>\n",
              "      <td>25</td>\n",
              "    </tr>\n",
              "    <tr>\n",
              "      <th>3</th>\n",
              "      <td>12</td>\n",
              "      <td>7.55</td>\n",
              "      <td>52044</td>\n",
              "      <td>7.55</td>\n",
              "      <td>25</td>\n",
              "    </tr>\n",
              "  </tbody>\n",
              "</table>\n",
              "</div>"
            ],
            "text/plain": [
              "  period  interest_ratio  count_loan_id  avg_interest_rate freq_payday\n",
              "0      6            5.74             60               5.74          25\n",
              "1      6            8.01           1008               8.01          25\n",
              "2      6            3.68            288               3.68          25\n",
              "0      9            7.49           2331               7.49          25\n",
              "1      9            5.23             54               5.23          25\n",
              "2      9            3.25            270               3.25          25\n",
              "0     12            7.49            120               7.49          25\n",
              "1     12            3.12           8124               3.12          25\n",
              "2     12            5.15            924               5.15          25\n",
              "3     12            7.55          52044               7.55          25"
            ]
          },
          "metadata": {
            "tags": []
          },
          "execution_count": 315
        }
      ]
    },
    {
      "cell_type": "markdown",
      "metadata": {
        "id": "3r9jatedgIf6",
        "colab_type": "text"
      },
      "source": [
        ""
      ]
    },
    {
      "cell_type": "code",
      "metadata": {
        "id": "wQb-weRlkF27",
        "colab_type": "code",
        "colab": {
          "base_uri": "https://localhost:8080/",
          "height": 488
        },
        "outputId": "6a74805f-dd73-4a26-d555-9dabd3e0b970"
      },
      "source": [
        "df_loan_documents.show()"
      ],
      "execution_count": 317,
      "outputs": [
        {
          "output_type": "stream",
          "text": [
            "+-------+------+--------------------+------+-------------+------------------+----------+--------------------+------------+----------+------+-------+------+\n",
            "|loan_id|period|         accepted_at|payday|interest_rate|installment_number|  due_date|                  id|payment_date|    method|amount|latency|Over30|\n",
            "+-------+------+--------------------+------+-------------+------------------+----------+--------------------+------------+----------+------+-------+------+\n",
            "|    291|    12|2017-05-11 13:00:...|     5|         7.55|                 1|2017-06-12|4865e86e-4042-412...|  2018-02-23|creditcard|454.94|   True| False|\n",
            "|    291|    12|2017-05-11 13:00:...|     5|         7.55|                 1|2017-06-12|5b6bf993-faec-4bd...|  2017-12-31|creditcard|454.94|   True| False|\n",
            "|    291|    12|2017-05-11 13:00:...|     5|         7.55|                 1|2017-06-12|77b437f6-f1ea-4ad...|  2018-04-12|       ted|454.94|   True| False|\n",
            "|    291|    12|2017-05-11 13:00:...|     5|         7.55|                 1|2017-06-12|abc5cefe-0c08-481...|  2018-01-23|creditcard|454.94|   True| False|\n",
            "|    291|    12|2017-05-11 13:00:...|     5|         7.55|                 1|2017-06-12|46410647-eb71-49b...|  2017-11-19|       ted|457.94|   True| False|\n",
            "|    291|    12|2017-05-11 13:00:...|     5|         7.55|                 1|2017-06-12|91bdae2d-f1ba-40a...|  2017-12-05|creditcard|454.94|   True| False|\n",
            "|    291|    12|2017-05-11 13:00:...|     5|         7.55|                 1|2017-06-12|4389d87f-570a-4a7...|  2018-05-14|creditcard|456.94|   True| False|\n",
            "|    291|    12|2017-05-11 13:00:...|     5|         7.55|                 1|2017-06-12|1c957990-5245-41e...|  2017-10-19|    boleto|462.94|   True| False|\n",
            "|    291|    12|2017-05-11 13:00:...|     5|         7.55|                 1|2017-06-12|35734218-a71f-411...|  2017-07-23|       ted|454.94|   True| False|\n",
            "|    291|    12|2017-05-11 13:00:...|     5|         7.55|                 1|2017-06-12|e747c7f0-bd95-4ac...|  2017-07-03|       ted|454.94|   True| False|\n",
            "|    291|    12|2017-05-11 13:00:...|     5|         7.55|                 1|2017-06-12|8ad9e0e5-a232-477...|  2017-06-01|creditcard|454.94|  False|  null|\n",
            "|    291|    12|2017-05-11 13:00:...|     5|         7.55|                 2|2017-07-12|4865e86e-4042-412...|  2018-02-23|creditcard|454.94|   True| False|\n",
            "|    291|    12|2017-05-11 13:00:...|     5|         7.55|                 2|2017-07-12|5b6bf993-faec-4bd...|  2017-12-31|creditcard|454.94|   True| False|\n",
            "|    291|    12|2017-05-11 13:00:...|     5|         7.55|                 2|2017-07-12|77b437f6-f1ea-4ad...|  2018-04-12|       ted|454.94|   True| False|\n",
            "|    291|    12|2017-05-11 13:00:...|     5|         7.55|                 2|2017-07-12|abc5cefe-0c08-481...|  2018-01-23|creditcard|454.94|   True| False|\n",
            "|    291|    12|2017-05-11 13:00:...|     5|         7.55|                 2|2017-07-12|46410647-eb71-49b...|  2017-11-19|       ted|457.94|   True| False|\n",
            "|    291|    12|2017-05-11 13:00:...|     5|         7.55|                 2|2017-07-12|91bdae2d-f1ba-40a...|  2017-12-05|creditcard|454.94|   True| False|\n",
            "|    291|    12|2017-05-11 13:00:...|     5|         7.55|                 2|2017-07-12|4389d87f-570a-4a7...|  2018-05-14|creditcard|456.94|   True| False|\n",
            "|    291|    12|2017-05-11 13:00:...|     5|         7.55|                 2|2017-07-12|1c957990-5245-41e...|  2017-10-19|    boleto|462.94|   True| False|\n",
            "|    291|    12|2017-05-11 13:00:...|     5|         7.55|                 2|2017-07-12|35734218-a71f-411...|  2017-07-23|       ted|454.94|   True| False|\n",
            "+-------+------+--------------------+------+-------------+------------------+----------+--------------------+------------+----------+------+-------+------+\n",
            "only showing top 20 rows\n",
            "\n"
          ],
          "name": "stdout"
        }
      ]
    },
    {
      "cell_type": "code",
      "metadata": {
        "id": "vqOU6cx90cY9",
        "colab_type": "code",
        "colab": {
          "base_uri": "https://localhost:8080/",
          "height": 415
        },
        "outputId": "6bcddbd4-9e9d-4f21-a34e-110abff73a62"
      },
      "source": [
        "df_total_portfolio = df_loan_documents.groupby('loan_id').count().select('loan_id',col('count').alias('total_portfolio')).toPandas()\n",
        "df_total_portfolio"
      ],
      "execution_count": 345,
      "outputs": [
        {
          "output_type": "execute_result",
          "data": {
            "text/html": [
              "<div>\n",
              "<style scoped>\n",
              "    .dataframe tbody tr th:only-of-type {\n",
              "        vertical-align: middle;\n",
              "    }\n",
              "\n",
              "    .dataframe tbody tr th {\n",
              "        vertical-align: top;\n",
              "    }\n",
              "\n",
              "    .dataframe thead th {\n",
              "        text-align: right;\n",
              "    }\n",
              "</style>\n",
              "<table border=\"1\" class=\"dataframe\">\n",
              "  <thead>\n",
              "    <tr style=\"text-align: right;\">\n",
              "      <th></th>\n",
              "      <th>loan_id</th>\n",
              "      <th>total_portfolio</th>\n",
              "    </tr>\n",
              "  </thead>\n",
              "  <tbody>\n",
              "    <tr>\n",
              "      <th>0</th>\n",
              "      <td>471</td>\n",
              "      <td>72</td>\n",
              "    </tr>\n",
              "    <tr>\n",
              "      <th>1</th>\n",
              "      <td>463</td>\n",
              "      <td>48</td>\n",
              "    </tr>\n",
              "    <tr>\n",
              "      <th>2</th>\n",
              "      <td>496</td>\n",
              "      <td>60</td>\n",
              "    </tr>\n",
              "    <tr>\n",
              "      <th>3</th>\n",
              "      <td>148</td>\n",
              "      <td>120</td>\n",
              "    </tr>\n",
              "    <tr>\n",
              "      <th>4</th>\n",
              "      <td>243</td>\n",
              "      <td>45</td>\n",
              "    </tr>\n",
              "    <tr>\n",
              "      <th>...</th>\n",
              "      <td>...</td>\n",
              "      <td>...</td>\n",
              "    </tr>\n",
              "    <tr>\n",
              "      <th>770</th>\n",
              "      <td>187</td>\n",
              "      <td>24</td>\n",
              "    </tr>\n",
              "    <tr>\n",
              "      <th>771</th>\n",
              "      <td>89</td>\n",
              "      <td>84</td>\n",
              "    </tr>\n",
              "    <tr>\n",
              "      <th>772</th>\n",
              "      <td>401</td>\n",
              "      <td>48</td>\n",
              "    </tr>\n",
              "    <tr>\n",
              "      <th>773</th>\n",
              "      <td>422</td>\n",
              "      <td>60</td>\n",
              "    </tr>\n",
              "    <tr>\n",
              "      <th>774</th>\n",
              "      <td>517</td>\n",
              "      <td>84</td>\n",
              "    </tr>\n",
              "  </tbody>\n",
              "</table>\n",
              "<p>775 rows × 2 columns</p>\n",
              "</div>"
            ],
            "text/plain": [
              "     loan_id  total_portfolio\n",
              "0        471               72\n",
              "1        463               48\n",
              "2        496               60\n",
              "3        148              120\n",
              "4        243               45\n",
              "..       ...              ...\n",
              "770      187               24\n",
              "771       89               84\n",
              "772      401               48\n",
              "773      422               60\n",
              "774      517               84\n",
              "\n",
              "[775 rows x 2 columns]"
            ]
          },
          "metadata": {
            "tags": []
          },
          "execution_count": 345
        }
      ]
    },
    {
      "cell_type": "markdown",
      "metadata": {
        "id": "xe_4rbELEjkY",
        "colab_type": "text"
      },
      "source": [
        "Quando 'Over30' é false não há atraso maior ou igual a 30 dias para tal contrato\n",
        "\n",
        "Over30 = True implica débito em aberto"
      ]
    },
    {
      "cell_type": "code",
      "metadata": {
        "id": "CROVWQ1ShFD3",
        "colab_type": "code",
        "colab": {
          "base_uri": "https://localhost:8080/",
          "height": 415
        },
        "outputId": "e85e0616-aa74-4823-fb8c-bbe26ac190f8"
      },
      "source": [
        "df_matured = df_loan_documents.filter(df_loan_documents['Over30'] == 'False').groupby('loan_id').count().select('loan_id', col('count').alias('matured_portfolio') ).toPandas()\n",
        "\n",
        "df_over30 = df_loan_documents.filter(df_loan_documents['Over30'] == 'True').groupby('loan_id').count().select('loan_id', col('count').alias('over30_true') ).toPandas()\n",
        "\n",
        "df_matured"
      ],
      "execution_count": 386,
      "outputs": [
        {
          "output_type": "execute_result",
          "data": {
            "text/html": [
              "<div>\n",
              "<style scoped>\n",
              "    .dataframe tbody tr th:only-of-type {\n",
              "        vertical-align: middle;\n",
              "    }\n",
              "\n",
              "    .dataframe tbody tr th {\n",
              "        vertical-align: top;\n",
              "    }\n",
              "\n",
              "    .dataframe thead th {\n",
              "        text-align: right;\n",
              "    }\n",
              "</style>\n",
              "<table border=\"1\" class=\"dataframe\">\n",
              "  <thead>\n",
              "    <tr style=\"text-align: right;\">\n",
              "      <th></th>\n",
              "      <th>loan_id</th>\n",
              "      <th>matured_portfolio</th>\n",
              "    </tr>\n",
              "  </thead>\n",
              "  <tbody>\n",
              "    <tr>\n",
              "      <th>0</th>\n",
              "      <td>471</td>\n",
              "      <td>29</td>\n",
              "    </tr>\n",
              "    <tr>\n",
              "      <th>1</th>\n",
              "      <td>463</td>\n",
              "      <td>15</td>\n",
              "    </tr>\n",
              "    <tr>\n",
              "      <th>2</th>\n",
              "      <td>496</td>\n",
              "      <td>18</td>\n",
              "    </tr>\n",
              "    <tr>\n",
              "      <th>3</th>\n",
              "      <td>148</td>\n",
              "      <td>48</td>\n",
              "    </tr>\n",
              "    <tr>\n",
              "      <th>4</th>\n",
              "      <td>243</td>\n",
              "      <td>14</td>\n",
              "    </tr>\n",
              "    <tr>\n",
              "      <th>...</th>\n",
              "      <td>...</td>\n",
              "      <td>...</td>\n",
              "    </tr>\n",
              "    <tr>\n",
              "      <th>770</th>\n",
              "      <td>187</td>\n",
              "      <td>14</td>\n",
              "    </tr>\n",
              "    <tr>\n",
              "      <th>771</th>\n",
              "      <td>89</td>\n",
              "      <td>35</td>\n",
              "    </tr>\n",
              "    <tr>\n",
              "      <th>772</th>\n",
              "      <td>401</td>\n",
              "      <td>24</td>\n",
              "    </tr>\n",
              "    <tr>\n",
              "      <th>773</th>\n",
              "      <td>422</td>\n",
              "      <td>30</td>\n",
              "    </tr>\n",
              "    <tr>\n",
              "      <th>774</th>\n",
              "      <td>517</td>\n",
              "      <td>36</td>\n",
              "    </tr>\n",
              "  </tbody>\n",
              "</table>\n",
              "<p>775 rows × 2 columns</p>\n",
              "</div>"
            ],
            "text/plain": [
              "     loan_id  matured_portfolio\n",
              "0        471                 29\n",
              "1        463                 15\n",
              "2        496                 18\n",
              "3        148                 48\n",
              "4        243                 14\n",
              "..       ...                ...\n",
              "770      187                 14\n",
              "771       89                 35\n",
              "772      401                 24\n",
              "773      422                 30\n",
              "774      517                 36\n",
              "\n",
              "[775 rows x 2 columns]"
            ]
          },
          "metadata": {
            "tags": []
          },
          "execution_count": 386
        }
      ]
    },
    {
      "cell_type": "markdown",
      "metadata": {
        "id": "WpaizsyhDmAD",
        "colab_type": "text"
      },
      "source": [
        "Resposta 4\n",
        "\n",
        "O motivo pelo qual os campos de 'ratio' são em maioria nulos se justifica:\n",
        "\n",
        "Não existem contratos com atraso maior ou igual a 30 dias para essas linhas."
      ]
    },
    {
      "cell_type": "code",
      "metadata": {
        "id": "YVJ3IZLl3Jcs",
        "colab_type": "code",
        "colab": {
          "base_uri": "https://localhost:8080/",
          "height": 415
        },
        "outputId": "bf5e276e-b4b5-4e7f-e670-81ac3d2d47ea"
      },
      "source": [
        "# df_total_portfolio.join(df_matured, [\"loan_id\"]).join((df_over30, [\"loan_id\"]))\n",
        "\n",
        "p4 = pd.concat([df_total_portfolio,df_matured,df_over30], axis=1)\n",
        "# p4.dropna(subset=['total_portfolio'], inplace=True)\n",
        "p4 = p4[['total_portfolio','matured_portfolio', 'over30_true']]\n",
        "# p4.loc[:,'ratio'] = p4.over30_true/p4.total_portfolio * 100\n",
        "\n",
        "p4.loc [p4 ['over30_true'].notnull(), 'ratio'] = p4.over30_true/p4.total_portfolio * 100\n",
        "p4"
      ],
      "execution_count": 387,
      "outputs": [
        {
          "output_type": "execute_result",
          "data": {
            "text/html": [
              "<div>\n",
              "<style scoped>\n",
              "    .dataframe tbody tr th:only-of-type {\n",
              "        vertical-align: middle;\n",
              "    }\n",
              "\n",
              "    .dataframe tbody tr th {\n",
              "        vertical-align: top;\n",
              "    }\n",
              "\n",
              "    .dataframe thead th {\n",
              "        text-align: right;\n",
              "    }\n",
              "</style>\n",
              "<table border=\"1\" class=\"dataframe\">\n",
              "  <thead>\n",
              "    <tr style=\"text-align: right;\">\n",
              "      <th></th>\n",
              "      <th>total_portfolio</th>\n",
              "      <th>matured_portfolio</th>\n",
              "      <th>over30_true</th>\n",
              "      <th>ratio</th>\n",
              "    </tr>\n",
              "  </thead>\n",
              "  <tbody>\n",
              "    <tr>\n",
              "      <th>0</th>\n",
              "      <td>72</td>\n",
              "      <td>29</td>\n",
              "      <td>NaN</td>\n",
              "      <td>NaN</td>\n",
              "    </tr>\n",
              "    <tr>\n",
              "      <th>1</th>\n",
              "      <td>48</td>\n",
              "      <td>15</td>\n",
              "      <td>NaN</td>\n",
              "      <td>NaN</td>\n",
              "    </tr>\n",
              "    <tr>\n",
              "      <th>2</th>\n",
              "      <td>60</td>\n",
              "      <td>18</td>\n",
              "      <td>NaN</td>\n",
              "      <td>NaN</td>\n",
              "    </tr>\n",
              "    <tr>\n",
              "      <th>3</th>\n",
              "      <td>120</td>\n",
              "      <td>48</td>\n",
              "      <td>NaN</td>\n",
              "      <td>NaN</td>\n",
              "    </tr>\n",
              "    <tr>\n",
              "      <th>4</th>\n",
              "      <td>45</td>\n",
              "      <td>14</td>\n",
              "      <td>NaN</td>\n",
              "      <td>NaN</td>\n",
              "    </tr>\n",
              "    <tr>\n",
              "      <th>...</th>\n",
              "      <td>...</td>\n",
              "      <td>...</td>\n",
              "      <td>...</td>\n",
              "      <td>...</td>\n",
              "    </tr>\n",
              "    <tr>\n",
              "      <th>770</th>\n",
              "      <td>24</td>\n",
              "      <td>14</td>\n",
              "      <td>NaN</td>\n",
              "      <td>NaN</td>\n",
              "    </tr>\n",
              "    <tr>\n",
              "      <th>771</th>\n",
              "      <td>84</td>\n",
              "      <td>35</td>\n",
              "      <td>NaN</td>\n",
              "      <td>NaN</td>\n",
              "    </tr>\n",
              "    <tr>\n",
              "      <th>772</th>\n",
              "      <td>48</td>\n",
              "      <td>24</td>\n",
              "      <td>NaN</td>\n",
              "      <td>NaN</td>\n",
              "    </tr>\n",
              "    <tr>\n",
              "      <th>773</th>\n",
              "      <td>60</td>\n",
              "      <td>30</td>\n",
              "      <td>NaN</td>\n",
              "      <td>NaN</td>\n",
              "    </tr>\n",
              "    <tr>\n",
              "      <th>774</th>\n",
              "      <td>84</td>\n",
              "      <td>36</td>\n",
              "      <td>NaN</td>\n",
              "      <td>NaN</td>\n",
              "    </tr>\n",
              "  </tbody>\n",
              "</table>\n",
              "<p>775 rows × 4 columns</p>\n",
              "</div>"
            ],
            "text/plain": [
              "     total_portfolio  matured_portfolio over30_true ratio\n",
              "0                 72                 29         NaN   NaN\n",
              "1                 48                 15         NaN   NaN\n",
              "2                 60                 18         NaN   NaN\n",
              "3                120                 48         NaN   NaN\n",
              "4                 45                 14         NaN   NaN\n",
              "..               ...                ...         ...   ...\n",
              "770               24                 14         NaN   NaN\n",
              "771               84                 35         NaN   NaN\n",
              "772               48                 24         NaN   NaN\n",
              "773               60                 30         NaN   NaN\n",
              "774               84                 36         NaN   NaN\n",
              "\n",
              "[775 rows x 4 columns]"
            ]
          },
          "metadata": {
            "tags": []
          },
          "execution_count": 387
        }
      ]
    },
    {
      "cell_type": "code",
      "metadata": {
        "id": "LFkKetvwzGhl",
        "colab_type": "code",
        "colab": {}
      },
      "source": [
        ""
      ],
      "execution_count": null,
      "outputs": []
    }
  ]
}